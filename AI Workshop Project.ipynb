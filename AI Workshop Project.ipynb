{
 "cells": [
  {
   "cell_type": "markdown",
   "id": "f470c5f4-ead5-427c-9dcd-4c244b384b71",
   "metadata": {},
   "source": [
    "<h1 style='color:red' align=\"center\">Eman Nabrawi and Nawaf Alharbi</h1>\n",
    "<h1 style='color:blue' align=\"center\">AI Workshop Project</h1>"
   ]
  },
  {
   "cell_type": "code",
   "execution_count": 1,
   "id": "e9344bbd-930b-4fcf-82c6-850fb7cb1361",
   "metadata": {},
   "outputs": [],
   "source": [
    "import pandas as pd\n",
    "from matplotlib import pyplot as plt\n",
    "%matplotlib inline"
   ]
  },
  {
   "cell_type": "code",
   "execution_count": 2,
   "id": "71cdc5ce-19c8-4e20-be38-ff2cd2ff188c",
   "metadata": {},
   "outputs": [],
   "source": [
    "project_df = pd.read_csv('heart_failure_clinical_records_dataset_edit.csv')"
   ]
  },
  {
   "cell_type": "code",
   "execution_count": 3,
   "id": "2237ae32-8051-4662-bd9b-1b96b0d250ce",
   "metadata": {},
   "outputs": [
    {
     "data": {
      "text/html": [
       "<div>\n",
       "<style scoped>\n",
       "    .dataframe tbody tr th:only-of-type {\n",
       "        vertical-align: middle;\n",
       "    }\n",
       "\n",
       "    .dataframe tbody tr th {\n",
       "        vertical-align: top;\n",
       "    }\n",
       "\n",
       "    .dataframe thead th {\n",
       "        text-align: right;\n",
       "    }\n",
       "</style>\n",
       "<table border=\"1\" class=\"dataframe\">\n",
       "  <thead>\n",
       "    <tr style=\"text-align: right;\">\n",
       "      <th></th>\n",
       "      <th>age</th>\n",
       "      <th>anaemia</th>\n",
       "      <th>creatinine_phosphokinase</th>\n",
       "      <th>diabetes</th>\n",
       "      <th>ejection_fraction</th>\n",
       "      <th>high_blood_pressure</th>\n",
       "      <th>platelets</th>\n",
       "      <th>serum_creatinine</th>\n",
       "      <th>serum_sodium</th>\n",
       "      <th>sex</th>\n",
       "      <th>smoking</th>\n",
       "      <th>time_d</th>\n",
       "      <th>DEATH_EVENT</th>\n",
       "    </tr>\n",
       "  </thead>\n",
       "  <tbody>\n",
       "    <tr>\n",
       "      <th>0</th>\n",
       "      <td>75</td>\n",
       "      <td>0</td>\n",
       "      <td>582</td>\n",
       "      <td>0</td>\n",
       "      <td>20</td>\n",
       "      <td>1</td>\n",
       "      <td>265000.00</td>\n",
       "      <td>1.9</td>\n",
       "      <td>130</td>\n",
       "      <td>1</td>\n",
       "      <td>0</td>\n",
       "      <td>4</td>\n",
       "      <td>0</td>\n",
       "    </tr>\n",
       "    <tr>\n",
       "      <th>1</th>\n",
       "      <td>55</td>\n",
       "      <td>0</td>\n",
       "      <td>7861</td>\n",
       "      <td>0</td>\n",
       "      <td>38</td>\n",
       "      <td>0</td>\n",
       "      <td>263358.03</td>\n",
       "      <td>1.1</td>\n",
       "      <td>136</td>\n",
       "      <td>1</td>\n",
       "      <td>0</td>\n",
       "      <td>6</td>\n",
       "      <td>0</td>\n",
       "    </tr>\n",
       "    <tr>\n",
       "      <th>2</th>\n",
       "      <td>65</td>\n",
       "      <td>0</td>\n",
       "      <td>146</td>\n",
       "      <td>0</td>\n",
       "      <td>20</td>\n",
       "      <td>0</td>\n",
       "      <td>162000.00</td>\n",
       "      <td>1.3</td>\n",
       "      <td>129</td>\n",
       "      <td>1</td>\n",
       "      <td>1</td>\n",
       "      <td>7</td>\n",
       "      <td>0</td>\n",
       "    </tr>\n",
       "    <tr>\n",
       "      <th>3</th>\n",
       "      <td>50</td>\n",
       "      <td>1</td>\n",
       "      <td>111</td>\n",
       "      <td>0</td>\n",
       "      <td>20</td>\n",
       "      <td>0</td>\n",
       "      <td>210000.00</td>\n",
       "      <td>1.9</td>\n",
       "      <td>137</td>\n",
       "      <td>1</td>\n",
       "      <td>0</td>\n",
       "      <td>7</td>\n",
       "      <td>0</td>\n",
       "    </tr>\n",
       "    <tr>\n",
       "      <th>4</th>\n",
       "      <td>65</td>\n",
       "      <td>1</td>\n",
       "      <td>160</td>\n",
       "      <td>1</td>\n",
       "      <td>20</td>\n",
       "      <td>0</td>\n",
       "      <td>327000.00</td>\n",
       "      <td>2.7</td>\n",
       "      <td>116</td>\n",
       "      <td>0</td>\n",
       "      <td>0</td>\n",
       "      <td>8</td>\n",
       "      <td>0</td>\n",
       "    </tr>\n",
       "  </tbody>\n",
       "</table>\n",
       "</div>"
      ],
      "text/plain": [
       "   age  anaemia  creatinine_phosphokinase  diabetes  ejection_fraction  \\\n",
       "0   75        0                       582         0                 20   \n",
       "1   55        0                      7861         0                 38   \n",
       "2   65        0                       146         0                 20   \n",
       "3   50        1                       111         0                 20   \n",
       "4   65        1                       160         1                 20   \n",
       "\n",
       "   high_blood_pressure  platelets  serum_creatinine  serum_sodium  sex  \\\n",
       "0                    1  265000.00               1.9           130    1   \n",
       "1                    0  263358.03               1.1           136    1   \n",
       "2                    0  162000.00               1.3           129    1   \n",
       "3                    0  210000.00               1.9           137    1   \n",
       "4                    0  327000.00               2.7           116    0   \n",
       "\n",
       "   smoking  time_d  DEATH_EVENT  \n",
       "0        0       4            0  \n",
       "1        0       6            0  \n",
       "2        1       7            0  \n",
       "3        0       7            0  \n",
       "4        0       8            0  "
      ]
     },
     "execution_count": 3,
     "metadata": {},
     "output_type": "execute_result"
    }
   ],
   "source": [
    "project_df.head()"
   ]
  },
  {
   "cell_type": "code",
   "execution_count": 4,
   "id": "9e303ce1-2f68-4620-9e58-68983295f523",
   "metadata": {},
   "outputs": [
    {
     "data": {
      "text/plain": [
       "(299, 13)"
      ]
     },
     "execution_count": 4,
     "metadata": {},
     "output_type": "execute_result"
    }
   ],
   "source": [
    "project_df.shape"
   ]
  },
  {
   "cell_type": "code",
   "execution_count": 5,
   "id": "69b4b120-63f8-42cb-b364-ff2bf8442958",
   "metadata": {},
   "outputs": [
    {
     "data": {
      "text/plain": [
       "(203, 13)"
      ]
     },
     "execution_count": 5,
     "metadata": {},
     "output_type": "execute_result"
    }
   ],
   "source": [
    "death = project_df[project_df.DEATH_EVENT==1]\n",
    "death.shape"
   ]
  },
  {
   "cell_type": "code",
   "execution_count": 6,
   "id": "9ed94322-afad-46ae-9196-fd8efa6fd5ee",
   "metadata": {},
   "outputs": [
    {
     "data": {
      "text/plain": [
       "(96, 13)"
      ]
     },
     "execution_count": 6,
     "metadata": {},
     "output_type": "execute_result"
    }
   ],
   "source": [
    "alive = project_df[project_df.DEATH_EVENT==0]\n",
    "alive.shape"
   ]
  },
  {
   "cell_type": "code",
   "execution_count": 7,
   "id": "b86d6bca-7e44-4ace-821e-da33293f8c97",
   "metadata": {},
   "outputs": [
    {
     "data": {
      "text/html": [
       "<div>\n",
       "<style scoped>\n",
       "    .dataframe tbody tr th:only-of-type {\n",
       "        vertical-align: middle;\n",
       "    }\n",
       "\n",
       "    .dataframe tbody tr th {\n",
       "        vertical-align: top;\n",
       "    }\n",
       "\n",
       "    .dataframe thead th {\n",
       "        text-align: right;\n",
       "    }\n",
       "</style>\n",
       "<table border=\"1\" class=\"dataframe\">\n",
       "  <thead>\n",
       "    <tr style=\"text-align: right;\">\n",
       "      <th></th>\n",
       "      <th>age</th>\n",
       "      <th>anaemia</th>\n",
       "      <th>creatinine_phosphokinase</th>\n",
       "      <th>diabetes</th>\n",
       "      <th>ejection_fraction</th>\n",
       "      <th>high_blood_pressure</th>\n",
       "      <th>platelets</th>\n",
       "      <th>serum_creatinine</th>\n",
       "      <th>serum_sodium</th>\n",
       "      <th>sex</th>\n",
       "      <th>smoking</th>\n",
       "      <th>time_d</th>\n",
       "    </tr>\n",
       "    <tr>\n",
       "      <th>DEATH_EVENT</th>\n",
       "      <th></th>\n",
       "      <th></th>\n",
       "      <th></th>\n",
       "      <th></th>\n",
       "      <th></th>\n",
       "      <th></th>\n",
       "      <th></th>\n",
       "      <th></th>\n",
       "      <th></th>\n",
       "      <th></th>\n",
       "      <th></th>\n",
       "      <th></th>\n",
       "    </tr>\n",
       "  </thead>\n",
       "  <tbody>\n",
       "    <tr>\n",
       "      <th>0</th>\n",
       "      <td>65.208333</td>\n",
       "      <td>0.479167</td>\n",
       "      <td>670.197917</td>\n",
       "      <td>0.416667</td>\n",
       "      <td>33.46875</td>\n",
       "      <td>0.406250</td>\n",
       "      <td>256381.044792</td>\n",
       "      <td>1.835833</td>\n",
       "      <td>135.375000</td>\n",
       "      <td>0.645833</td>\n",
       "      <td>0.312500</td>\n",
       "      <td>70.885417</td>\n",
       "    </tr>\n",
       "    <tr>\n",
       "      <th>1</th>\n",
       "      <td>58.758621</td>\n",
       "      <td>0.408867</td>\n",
       "      <td>540.054187</td>\n",
       "      <td>0.418719</td>\n",
       "      <td>40.26601</td>\n",
       "      <td>0.325123</td>\n",
       "      <td>266657.489901</td>\n",
       "      <td>1.184877</td>\n",
       "      <td>137.216749</td>\n",
       "      <td>0.650246</td>\n",
       "      <td>0.325123</td>\n",
       "      <td>158.339901</td>\n",
       "    </tr>\n",
       "  </tbody>\n",
       "</table>\n",
       "</div>"
      ],
      "text/plain": [
       "                   age   anaemia  creatinine_phosphokinase  diabetes  \\\n",
       "DEATH_EVENT                                                            \n",
       "0            65.208333  0.479167                670.197917  0.416667   \n",
       "1            58.758621  0.408867                540.054187  0.418719   \n",
       "\n",
       "             ejection_fraction  high_blood_pressure      platelets  \\\n",
       "DEATH_EVENT                                                          \n",
       "0                     33.46875             0.406250  256381.044792   \n",
       "1                     40.26601             0.325123  266657.489901   \n",
       "\n",
       "             serum_creatinine  serum_sodium       sex   smoking      time_d  \n",
       "DEATH_EVENT                                                                  \n",
       "0                    1.835833    135.375000  0.645833  0.312500   70.885417  \n",
       "1                    1.184877    137.216749  0.650246  0.325123  158.339901  "
      ]
     },
     "execution_count": 7,
     "metadata": {},
     "output_type": "execute_result"
    }
   ],
   "source": [
    "project_df.groupby('DEATH_EVENT').mean()"
   ]
  },
  {
   "cell_type": "code",
   "execution_count": 8,
   "id": "03488c70-5a97-4569-88ab-53056cc2c8fe",
   "metadata": {},
   "outputs": [
    {
     "data": {
      "text/html": [
       "<div>\n",
       "<style scoped>\n",
       "    .dataframe tbody tr th:only-of-type {\n",
       "        vertical-align: middle;\n",
       "    }\n",
       "\n",
       "    .dataframe tbody tr th {\n",
       "        vertical-align: top;\n",
       "    }\n",
       "\n",
       "    .dataframe thead th {\n",
       "        text-align: right;\n",
       "    }\n",
       "</style>\n",
       "<table border=\"1\" class=\"dataframe\">\n",
       "  <thead>\n",
       "    <tr style=\"text-align: right;\">\n",
       "      <th></th>\n",
       "      <th>age</th>\n",
       "      <th>anaemia</th>\n",
       "      <th>creatinine_phosphokinase</th>\n",
       "      <th>diabetes</th>\n",
       "      <th>ejection_fraction</th>\n",
       "      <th>high_blood_pressure</th>\n",
       "      <th>platelets</th>\n",
       "      <th>serum_creatinine</th>\n",
       "      <th>serum_sodium</th>\n",
       "      <th>sex</th>\n",
       "      <th>smoking</th>\n",
       "      <th>time_d</th>\n",
       "    </tr>\n",
       "    <tr>\n",
       "      <th>DEATH_EVENT</th>\n",
       "      <th></th>\n",
       "      <th></th>\n",
       "      <th></th>\n",
       "      <th></th>\n",
       "      <th></th>\n",
       "      <th></th>\n",
       "      <th></th>\n",
       "      <th></th>\n",
       "      <th></th>\n",
       "      <th></th>\n",
       "      <th></th>\n",
       "      <th></th>\n",
       "    </tr>\n",
       "  </thead>\n",
       "  <tbody>\n",
       "    <tr>\n",
       "      <th>0</th>\n",
       "      <td>65.0</td>\n",
       "      <td>0.0</td>\n",
       "      <td>259.0</td>\n",
       "      <td>0.0</td>\n",
       "      <td>30.0</td>\n",
       "      <td>0.0</td>\n",
       "      <td>258500.0</td>\n",
       "      <td>1.3</td>\n",
       "      <td>135.5</td>\n",
       "      <td>1.0</td>\n",
       "      <td>0.0</td>\n",
       "      <td>44.5</td>\n",
       "    </tr>\n",
       "    <tr>\n",
       "      <th>1</th>\n",
       "      <td>60.0</td>\n",
       "      <td>0.0</td>\n",
       "      <td>245.0</td>\n",
       "      <td>0.0</td>\n",
       "      <td>38.0</td>\n",
       "      <td>0.0</td>\n",
       "      <td>263000.0</td>\n",
       "      <td>1.0</td>\n",
       "      <td>137.0</td>\n",
       "      <td>1.0</td>\n",
       "      <td>0.0</td>\n",
       "      <td>172.0</td>\n",
       "    </tr>\n",
       "  </tbody>\n",
       "</table>\n",
       "</div>"
      ],
      "text/plain": [
       "              age  anaemia  creatinine_phosphokinase  diabetes  \\\n",
       "DEATH_EVENT                                                      \n",
       "0            65.0      0.0                     259.0       0.0   \n",
       "1            60.0      0.0                     245.0       0.0   \n",
       "\n",
       "             ejection_fraction  high_blood_pressure  platelets  \\\n",
       "DEATH_EVENT                                                      \n",
       "0                         30.0                  0.0   258500.0   \n",
       "1                         38.0                  0.0   263000.0   \n",
       "\n",
       "             serum_creatinine  serum_sodium  sex  smoking  time_d  \n",
       "DEATH_EVENT                                                        \n",
       "0                         1.3         135.5  1.0      0.0    44.5  \n",
       "1                         1.0         137.0  1.0      0.0   172.0  "
      ]
     },
     "execution_count": 8,
     "metadata": {},
     "output_type": "execute_result"
    }
   ],
   "source": [
    "project_df.groupby('DEATH_EVENT').median()"
   ]
  },
  {
   "cell_type": "code",
   "execution_count": 9,
   "id": "ca12e0db-9279-4b28-86fd-9bd2ee78938e",
   "metadata": {},
   "outputs": [
    {
     "data": {
      "text/html": [
       "<div>\n",
       "<style scoped>\n",
       "    .dataframe tbody tr th:only-of-type {\n",
       "        vertical-align: middle;\n",
       "    }\n",
       "\n",
       "    .dataframe tbody tr th {\n",
       "        vertical-align: top;\n",
       "    }\n",
       "\n",
       "    .dataframe thead th {\n",
       "        text-align: right;\n",
       "    }\n",
       "</style>\n",
       "<table border=\"1\" class=\"dataframe\">\n",
       "  <thead>\n",
       "    <tr style=\"text-align: right;\">\n",
       "      <th></th>\n",
       "      <th>age</th>\n",
       "      <th>anaemia</th>\n",
       "      <th>creatinine_phosphokinase</th>\n",
       "      <th>diabetes</th>\n",
       "      <th>ejection_fraction</th>\n",
       "      <th>high_blood_pressure</th>\n",
       "      <th>platelets</th>\n",
       "      <th>serum_creatinine</th>\n",
       "      <th>serum_sodium</th>\n",
       "      <th>sex</th>\n",
       "      <th>smoking</th>\n",
       "      <th>time_d</th>\n",
       "    </tr>\n",
       "    <tr>\n",
       "      <th>DEATH_EVENT</th>\n",
       "      <th></th>\n",
       "      <th></th>\n",
       "      <th></th>\n",
       "      <th></th>\n",
       "      <th></th>\n",
       "      <th></th>\n",
       "      <th></th>\n",
       "      <th></th>\n",
       "      <th></th>\n",
       "      <th></th>\n",
       "      <th></th>\n",
       "      <th></th>\n",
       "    </tr>\n",
       "  </thead>\n",
       "  <tbody>\n",
       "    <tr>\n",
       "      <th>0</th>\n",
       "      <td>13.217147</td>\n",
       "      <td>0.502188</td>\n",
       "      <td>1316.580640</td>\n",
       "      <td>0.495595</td>\n",
       "      <td>12.525303</td>\n",
       "      <td>0.493710</td>\n",
       "      <td>98525.682856</td>\n",
       "      <td>1.468562</td>\n",
       "      <td>5.001579</td>\n",
       "      <td>0.480771</td>\n",
       "      <td>0.465946</td>\n",
       "      <td>62.378281</td>\n",
       "    </tr>\n",
       "    <tr>\n",
       "      <th>1</th>\n",
       "      <td>10.637402</td>\n",
       "      <td>0.492840</td>\n",
       "      <td>753.799572</td>\n",
       "      <td>0.494569</td>\n",
       "      <td>10.859963</td>\n",
       "      <td>0.469579</td>\n",
       "      <td>97531.202283</td>\n",
       "      <td>0.654083</td>\n",
       "      <td>3.982923</td>\n",
       "      <td>0.478071</td>\n",
       "      <td>0.469579</td>\n",
       "      <td>67.742872</td>\n",
       "    </tr>\n",
       "  </tbody>\n",
       "</table>\n",
       "</div>"
      ],
      "text/plain": [
       "                   age   anaemia  creatinine_phosphokinase  diabetes  \\\n",
       "DEATH_EVENT                                                            \n",
       "0            13.217147  0.502188               1316.580640  0.495595   \n",
       "1            10.637402  0.492840                753.799572  0.494569   \n",
       "\n",
       "             ejection_fraction  high_blood_pressure     platelets  \\\n",
       "DEATH_EVENT                                                         \n",
       "0                    12.525303             0.493710  98525.682856   \n",
       "1                    10.859963             0.469579  97531.202283   \n",
       "\n",
       "             serum_creatinine  serum_sodium       sex   smoking     time_d  \n",
       "DEATH_EVENT                                                                 \n",
       "0                    1.468562      5.001579  0.480771  0.465946  62.378281  \n",
       "1                    0.654083      3.982923  0.478071  0.469579  67.742872  "
      ]
     },
     "execution_count": 9,
     "metadata": {},
     "output_type": "execute_result"
    }
   ],
   "source": [
    "project_df.groupby('DEATH_EVENT').std()"
   ]
  },
  {
   "cell_type": "code",
   "execution_count": 10,
   "id": "138b4ace-2085-46b3-9c05-2da545aa3650",
   "metadata": {},
   "outputs": [
    {
     "data": {
      "text/plain": [
       "<AxesSubplot:xlabel='time_d'>"
      ]
     },
     "execution_count": 10,
     "metadata": {},
     "output_type": "execute_result"
    },
    {
     "data": {
      "image/png": "[encoded data removed]",
      "text/plain": [
       "<Figure size 432x288 with 1 Axes>"
      ]
     },
     "metadata": {
      "needs_background": "light"
     },
     "output_type": "display_data"
    },
    {
     "data": {
      "image/png": "[encoded data removed]",
      "text/plain": [
       "<Figure size 432x288 with 1 Axes>"
      ]
     },
     "metadata": {
      "needs_background": "light"
     },
     "output_type": "display_data"
    },
    {
     "data": {
      "image/png": "[encoded data removed]",
      "text/plain": [
       "<Figure size 432x288 with 1 Axes>"
      ]
     },
     "metadata": {
      "needs_background": "light"
     },
     "output_type": "display_data"
    },
    {
     "data": {
      "image/png": "[encoded data removed]",
      "text/plain": [
       "<Figure size 432x288 with 1 Axes>"
      ]
     },
     "metadata": {
      "needs_background": "light"
     },
     "output_type": "display_data"
    },
    {
     "data": {
      "image/png": "[encoded data removed]",
      "text/plain": [
       "<Figure size 432x288 with 1 Axes>"
      ]
     },
     "metadata": {
      "needs_background": "light"
     },
     "output_type": "display_data"
    },
    {
     "data": {
      "image/png": "[encoded data removed]",
      "text/plain": [
       "<Figure size 432x288 with 1 Axes>"
      ]
     },
     "metadata": {
      "needs_background": "light"
     },
     "output_type": "display_data"
    },
    {
     "data": {
      "image/png": "[encoded data removed]",
      "text/plain": [
       "<Figure size 432x288 with 1 Axes>"
      ]
     },
     "metadata": {
      "needs_background": "light"
     },
     "output_type": "display_data"
    },
    {
     "data": {
      "image/png": "[encoded data removed]",
      "text/plain": [
       "<Figure size 432x288 with 1 Axes>"
      ]
     },
     "metadata": {
      "needs_background": "light"
     },
     "output_type": "display_data"
    },
    {
     "data": {
      "image/png": "[encoded data removed]",
      "text/plain": [
       "<Figure size 432x288 with 1 Axes>"
      ]
     },
     "metadata": {
      "needs_background": "light"
     },
     "output_type": "display_data"
    },
    {
     "data": {
      "image/png": "[encoded data removed]",
      "text/plain": [
       "<Figure size 432x288 with 1 Axes>"
      ]
     },
     "metadata": {
      "needs_background": "light"
     },
     "output_type": "display_data"
    },
    {
     "data": {
      "image/png": "[encoded data removed]",
      "text/plain": [
       "<Figure size 432x288 with 1 Axes>"
      ]
     },
     "metadata": {
      "needs_background": "light"
     },
     "output_type": "display_data"
    },
    {
     "data": {
      "image/png": "[encoded data removed]",
      "text/plain": [
       "<Figure size 432x288 with 1 Axes>"
      ]
     },
     "metadata": {
      "needs_background": "light"
     },
     "output_type": "display_data"
    }
   ],
   "source": [
    "pd.crosstab(project_df.age, project_df.DEATH_EVENT).plot(kind='line')\n",
    "pd.crosstab(project_df.anaemia, project_df.DEATH_EVENT).plot(kind='line')\n",
    "pd.crosstab(project_df.creatinine_phosphokinase, project_df.DEATH_EVENT).plot(kind='line')\n",
    "pd.crosstab(project_df.diabetes, project_df.DEATH_EVENT).plot(kind='line')\n",
    "pd.crosstab(project_df.ejection_fraction, project_df.DEATH_EVENT).plot(kind='line')\n",
    "pd.crosstab(project_df.high_blood_pressure, project_df.DEATH_EVENT).plot(kind='line')\n",
    "pd.crosstab(project_df.platelets, project_df.DEATH_EVENT).plot(kind='line')\n",
    "pd.crosstab(project_df.serum_creatinine, project_df.DEATH_EVENT).plot(kind='line')\n",
    "pd.crosstab(project_df.serum_sodium, project_df.DEATH_EVENT).plot(kind='line')\n",
    "pd.crosstab(project_df.sex, project_df.DEATH_EVENT).plot(kind='line')\n",
    "pd.crosstab(project_df.smoking, project_df.DEATH_EVENT).plot(kind='line')\n",
    "pd.crosstab(project_df.time_d, project_df.DEATH_EVENT).plot(kind='line')"
   ]
  },
  {
   "cell_type": "code",
   "execution_count": 11,
   "id": "3ae7f1d1-b1e5-4dd0-b41a-2ee6e68ff6cc",
   "metadata": {},
   "outputs": [],
   "source": [
    "from sklearn.metrics.pairwise import cosine_similarity"
   ]
  },
  {
   "cell_type": "code",
   "execution_count": 12,
   "id": "9facd985-579a-4d66-9fc2-69a7be319126",
   "metadata": {},
   "outputs": [
    {
     "data": {
      "text/html": [
       "<div>\n",
       "<style scoped>\n",
       "    .dataframe tbody tr th:only-of-type {\n",
       "        vertical-align: middle;\n",
       "    }\n",
       "\n",
       "    .dataframe tbody tr th {\n",
       "        vertical-align: top;\n",
       "    }\n",
       "\n",
       "    .dataframe thead th {\n",
       "        text-align: right;\n",
       "    }\n",
       "</style>\n",
       "<table border=\"1\" class=\"dataframe\">\n",
       "  <thead>\n",
       "    <tr style=\"text-align: right;\">\n",
       "      <th></th>\n",
       "      <th>age</th>\n",
       "      <th>anaemia</th>\n",
       "      <th>creatinine_phosphokinase</th>\n",
       "      <th>diabetes</th>\n",
       "      <th>ejection_fraction</th>\n",
       "      <th>high_blood_pressure</th>\n",
       "      <th>platelets</th>\n",
       "      <th>serum_creatinine</th>\n",
       "      <th>serum_sodium</th>\n",
       "      <th>sex</th>\n",
       "      <th>smoking</th>\n",
       "      <th>time_d</th>\n",
       "      <th>DEATH_EVENT</th>\n",
       "    </tr>\n",
       "  </thead>\n",
       "  <tbody>\n",
       "    <tr>\n",
       "      <th>0</th>\n",
       "      <td>75</td>\n",
       "      <td>0</td>\n",
       "      <td>582</td>\n",
       "      <td>0</td>\n",
       "      <td>20</td>\n",
       "      <td>1</td>\n",
       "      <td>265000.00</td>\n",
       "      <td>1.9</td>\n",
       "      <td>130</td>\n",
       "      <td>1</td>\n",
       "      <td>0</td>\n",
       "      <td>4</td>\n",
       "      <td>0</td>\n",
       "    </tr>\n",
       "    <tr>\n",
       "      <th>1</th>\n",
       "      <td>55</td>\n",
       "      <td>0</td>\n",
       "      <td>7861</td>\n",
       "      <td>0</td>\n",
       "      <td>38</td>\n",
       "      <td>0</td>\n",
       "      <td>263358.03</td>\n",
       "      <td>1.1</td>\n",
       "      <td>136</td>\n",
       "      <td>1</td>\n",
       "      <td>0</td>\n",
       "      <td>6</td>\n",
       "      <td>0</td>\n",
       "    </tr>\n",
       "    <tr>\n",
       "      <th>2</th>\n",
       "      <td>65</td>\n",
       "      <td>0</td>\n",
       "      <td>146</td>\n",
       "      <td>0</td>\n",
       "      <td>20</td>\n",
       "      <td>0</td>\n",
       "      <td>162000.00</td>\n",
       "      <td>1.3</td>\n",
       "      <td>129</td>\n",
       "      <td>1</td>\n",
       "      <td>1</td>\n",
       "      <td>7</td>\n",
       "      <td>0</td>\n",
       "    </tr>\n",
       "    <tr>\n",
       "      <th>3</th>\n",
       "      <td>50</td>\n",
       "      <td>1</td>\n",
       "      <td>111</td>\n",
       "      <td>0</td>\n",
       "      <td>20</td>\n",
       "      <td>0</td>\n",
       "      <td>210000.00</td>\n",
       "      <td>1.9</td>\n",
       "      <td>137</td>\n",
       "      <td>1</td>\n",
       "      <td>0</td>\n",
       "      <td>7</td>\n",
       "      <td>0</td>\n",
       "    </tr>\n",
       "    <tr>\n",
       "      <th>4</th>\n",
       "      <td>65</td>\n",
       "      <td>1</td>\n",
       "      <td>160</td>\n",
       "      <td>1</td>\n",
       "      <td>20</td>\n",
       "      <td>0</td>\n",
       "      <td>327000.00</td>\n",
       "      <td>2.7</td>\n",
       "      <td>116</td>\n",
       "      <td>0</td>\n",
       "      <td>0</td>\n",
       "      <td>8</td>\n",
       "      <td>0</td>\n",
       "    </tr>\n",
       "  </tbody>\n",
       "</table>\n",
       "</div>"
      ],
      "text/plain": [
       "   age  anaemia  creatinine_phosphokinase  diabetes  ejection_fraction  \\\n",
       "0   75        0                       582         0                 20   \n",
       "1   55        0                      7861         0                 38   \n",
       "2   65        0                       146         0                 20   \n",
       "3   50        1                       111         0                 20   \n",
       "4   65        1                       160         1                 20   \n",
       "\n",
       "   high_blood_pressure  platelets  serum_creatinine  serum_sodium  sex  \\\n",
       "0                    1  265000.00               1.9           130    1   \n",
       "1                    0  263358.03               1.1           136    1   \n",
       "2                    0  162000.00               1.3           129    1   \n",
       "3                    0  210000.00               1.9           137    1   \n",
       "4                    0  327000.00               2.7           116    0   \n",
       "\n",
       "   smoking  time_d  DEATH_EVENT  \n",
       "0        0       4            0  \n",
       "1        0       6            0  \n",
       "2        1       7            0  \n",
       "3        0       7            0  \n",
       "4        0       8            0  "
      ]
     },
     "execution_count": 12,
     "metadata": {},
     "output_type": "execute_result"
    }
   ],
   "source": [
    "project_df.head()"
   ]
  },
  {
   "cell_type": "code",
   "execution_count": 13,
   "id": "3513302a-3bd8-4a77-9809-e95771c9c7a3",
   "metadata": {},
   "outputs": [],
   "source": [
    "similarity_age= cosine_similarity([project_df.DEATH_EVENT], [project_df.age])\n",
    "similarity_anaemia= cosine_similarity([project_df.DEATH_EVENT], [project_df.anaemia])\n",
    "similarity_creatinine_phosphokinase= cosine_similarity([project_df.DEATH_EVENT], [project_df.creatinine_phosphokinase])\n",
    "similarity_diabetes= cosine_similarity([project_df.DEATH_EVENT], [project_df.diabetes])\n",
    "similarity_ejection_fraction= cosine_similarity([project_df.DEATH_EVENT], [project_df.ejection_fraction])\n",
    "similarity_high_blood_pressure= cosine_similarity([project_df.DEATH_EVENT], [project_df.high_blood_pressure])\n",
    "similarity_platelets= cosine_similarity([project_df.DEATH_EVENT], [project_df.platelets])\n",
    "similarity_serum_creatinine= cosine_similarity([project_df.DEATH_EVENT], [project_df.serum_creatinine])\n",
    "similarity_serum_sodium= cosine_similarity([project_df.DEATH_EVENT], [project_df.serum_sodium])\n",
    "similarity_sex= cosine_similarity([project_df.DEATH_EVENT], [project_df.sex])\n",
    "similarity_smoking= cosine_similarity([project_df.DEATH_EVENT], [project_df.smoking])\n",
    "similarity_time_d= cosine_similarity([project_df.DEATH_EVENT], [project_df.time_d])"
   ]
  },
  {
   "cell_type": "code",
   "execution_count": 14,
   "id": "85c9570e-f1a7-430e-9ac8-457624fae03e",
   "metadata": {},
   "outputs": [
    {
     "name": "stdout",
     "output_type": "stream",
     "text": [
      "Cosine similarity between Death Event and Age                      : [[0.78117519]]\n",
      "Cosine similarity between Death Event and Anaemia                  : [[0.51290298]]\n",
      "Cosine similarity between Death Event and Creatinine Phosphokinase : [[0.39380418]]\n",
      "Cosine similarity between Death Event and Diabetes                 : [[0.5336001]]\n",
      "Cosine similarity between Death Event and Ejection Fraction        : [[0.83206719]]\n",
      "Cosine similarity between Death Event and High Blood Pressure      : [[0.4520654]]\n",
      "Cosine similarity between Death Event and Platelets                : [[0.78226181]]\n",
      "Cosine similarity between Death Event and Serum Creatinine         : [[0.56277675]]\n",
      "Cosine similarity between Death Event and Serum Sodium             : [[0.82710839]]\n",
      "Cosine similarity between Death Event and Sex                      : [[0.66515835]]\n",
      "Cosine similarity between Death Event and Smaking                  : [[0.47278131]]\n",
      "Cosine similarity between Death Event and Followup Time            : [[0.86080763]]\n"
     ]
    }
   ],
   "source": [
    "print('Cosine similarity between Death Event and Age                      :', similarity_age)\n",
    "print('Cosine similarity between Death Event and Anaemia                  :', similarity_anaemia)\n",
    "print('Cosine similarity between Death Event and Creatinine Phosphokinase :', similarity_creatinine_phosphokinase)\n",
    "print('Cosine similarity between Death Event and Diabetes                 :', similarity_diabetes)\n",
    "print('Cosine similarity between Death Event and Ejection Fraction        :', similarity_ejection_fraction)\n",
    "print('Cosine similarity between Death Event and High Blood Pressure      :', similarity_high_blood_pressure)\n",
    "print('Cosine similarity between Death Event and Platelets                :', similarity_platelets)\n",
    "print('Cosine similarity between Death Event and Serum Creatinine         :', similarity_serum_creatinine)\n",
    "print('Cosine similarity between Death Event and Serum Sodium             :', similarity_serum_sodium)\n",
    "print('Cosine similarity between Death Event and Sex                      :', similarity_sex)\n",
    "print('Cosine similarity between Death Event and Smaking                  :', similarity_smoking)\n",
    "print('Cosine similarity between Death Event and Followup Time            :', similarity_time_d)"
   ]
  },
  {
   "cell_type": "code",
   "execution_count": 15,
   "id": "dae6f795-f6b9-4e9a-96f2-4328f9ac0525",
   "metadata": {},
   "outputs": [],
   "source": [
    "from sklearn.model_selection import train_test_split\n",
    "from sklearn.linear_model import LogisticRegression\n",
    "project_model = LogisticRegression()"
   ]
  },
  {
   "cell_type": "code",
   "execution_count": 59,
   "id": "5c15234d-58f6-4d64-8afc-8a017176e9cb",
   "metadata": {},
   "outputs": [],
   "source": [
    "X_train, X_test, Y_train, Y_test = train_test_split(project_df[['age','anaemia','creatinine_phosphokinase', 'diabetes','ejection_fraction','high_blood_pressure','platelets','serum_creatinine','serum_sodium','sex','smoking','time_d'\n",
    "]], project_df.DEATH_EVENT, train_size=0.8)"
   ]
  },
  {
   "cell_type": "code",
   "execution_count": 60,
   "id": "1c1121bf-b11b-49ee-b55c-4524d086eb69",
   "metadata": {},
   "outputs": [
    {
     "data": {
      "text/html": [
       "<div>\n",
       "<style scoped>\n",
       "    .dataframe tbody tr th:only-of-type {\n",
       "        vertical-align: middle;\n",
       "    }\n",
       "\n",
       "    .dataframe tbody tr th {\n",
       "        vertical-align: top;\n",
       "    }\n",
       "\n",
       "    .dataframe thead th {\n",
       "        text-align: right;\n",
       "    }\n",
       "</style>\n",
       "<table border=\"1\" class=\"dataframe\">\n",
       "  <thead>\n",
       "    <tr style=\"text-align: right;\">\n",
       "      <th></th>\n",
       "      <th>age</th>\n",
       "      <th>anaemia</th>\n",
       "      <th>creatinine_phosphokinase</th>\n",
       "      <th>diabetes</th>\n",
       "      <th>ejection_fraction</th>\n",
       "      <th>high_blood_pressure</th>\n",
       "      <th>platelets</th>\n",
       "      <th>serum_creatinine</th>\n",
       "      <th>serum_sodium</th>\n",
       "      <th>sex</th>\n",
       "      <th>smoking</th>\n",
       "      <th>time_d</th>\n",
       "    </tr>\n",
       "  </thead>\n",
       "  <tbody>\n",
       "    <tr>\n",
       "      <th>30</th>\n",
       "      <td>94</td>\n",
       "      <td>0</td>\n",
       "      <td>582</td>\n",
       "      <td>1</td>\n",
       "      <td>38</td>\n",
       "      <td>1</td>\n",
       "      <td>263358.03</td>\n",
       "      <td>1.83</td>\n",
       "      <td>134</td>\n",
       "      <td>1</td>\n",
       "      <td>0</td>\n",
       "      <td>27</td>\n",
       "    </tr>\n",
       "    <tr>\n",
       "      <th>4</th>\n",
       "      <td>65</td>\n",
       "      <td>1</td>\n",
       "      <td>160</td>\n",
       "      <td>1</td>\n",
       "      <td>20</td>\n",
       "      <td>0</td>\n",
       "      <td>327000.00</td>\n",
       "      <td>2.70</td>\n",
       "      <td>116</td>\n",
       "      <td>0</td>\n",
       "      <td>0</td>\n",
       "      <td>8</td>\n",
       "    </tr>\n",
       "    <tr>\n",
       "      <th>168</th>\n",
       "      <td>65</td>\n",
       "      <td>0</td>\n",
       "      <td>582</td>\n",
       "      <td>1</td>\n",
       "      <td>40</td>\n",
       "      <td>0</td>\n",
       "      <td>270000.00</td>\n",
       "      <td>1.00</td>\n",
       "      <td>138</td>\n",
       "      <td>0</td>\n",
       "      <td>0</td>\n",
       "      <td>140</td>\n",
       "    </tr>\n",
       "    <tr>\n",
       "      <th>248</th>\n",
       "      <td>40</td>\n",
       "      <td>0</td>\n",
       "      <td>624</td>\n",
       "      <td>0</td>\n",
       "      <td>35</td>\n",
       "      <td>0</td>\n",
       "      <td>301000.00</td>\n",
       "      <td>1.00</td>\n",
       "      <td>142</td>\n",
       "      <td>1</td>\n",
       "      <td>1</td>\n",
       "      <td>214</td>\n",
       "    </tr>\n",
       "    <tr>\n",
       "      <th>181</th>\n",
       "      <td>59</td>\n",
       "      <td>1</td>\n",
       "      <td>176</td>\n",
       "      <td>1</td>\n",
       "      <td>25</td>\n",
       "      <td>0</td>\n",
       "      <td>221000.00</td>\n",
       "      <td>1.00</td>\n",
       "      <td>136</td>\n",
       "      <td>1</td>\n",
       "      <td>1</td>\n",
       "      <td>150</td>\n",
       "    </tr>\n",
       "  </tbody>\n",
       "</table>\n",
       "</div>"
      ],
      "text/plain": [
       "     age  anaemia  creatinine_phosphokinase  diabetes  ejection_fraction  \\\n",
       "30    94        0                       582         1                 38   \n",
       "4     65        1                       160         1                 20   \n",
       "168   65        0                       582         1                 40   \n",
       "248   40        0                       624         0                 35   \n",
       "181   59        1                       176         1                 25   \n",
       "\n",
       "     high_blood_pressure  platelets  serum_creatinine  serum_sodium  sex  \\\n",
       "30                     1  263358.03              1.83           134    1   \n",
       "4                      0  327000.00              2.70           116    0   \n",
       "168                    0  270000.00              1.00           138    0   \n",
       "248                    0  301000.00              1.00           142    1   \n",
       "181                    0  221000.00              1.00           136    1   \n",
       "\n",
       "     smoking  time_d  \n",
       "30         0      27  \n",
       "4          0       8  \n",
       "168        0     140  \n",
       "248        1     214  \n",
       "181        1     150  "
      ]
     },
     "execution_count": 60,
     "metadata": {},
     "output_type": "execute_result"
    }
   ],
   "source": [
    "X_test.head()"
   ]
  },
  {
   "cell_type": "code",
   "execution_count": 61,
   "id": "136e8b47-97a6-4a66-a1b4-0d254f097af4",
   "metadata": {},
   "outputs": [
    {
     "name": "stderr",
     "output_type": "stream",
     "text": [
      "C:\\Users\\96655\\anaconda3\\lib\\site-packages\\sklearn\\linear_model\\_logistic.py:763: ConvergenceWarning: lbfgs failed to converge (status=1):\n",
      "STOP: TOTAL NO. of ITERATIONS REACHED LIMIT.\n",
      "\n",
      "Increase the number of iterations (max_iter) or scale the data as shown in:\n",
      "    https://scikit-learn.org/stable/modules/preprocessing.html\n",
      "Please also refer to the documentation for alternative solver options:\n",
      "    https://scikit-learn.org/stable/modules/linear_model.html#logistic-regression\n",
      "  n_iter_i = _check_optimize_result(\n"
     ]
    },
    {
     "data": {
      "text/plain": [
       "LogisticRegression()"
      ]
     },
     "execution_count": 61,
     "metadata": {},
     "output_type": "execute_result"
    }
   ],
   "source": [
    "project_model.fit(X_train, Y_train)"
   ]
  },
  {
   "cell_type": "code",
   "execution_count": 62,
   "id": "62149e8d-6a45-4d9d-b8bb-0637b78b9901",
   "metadata": {},
   "outputs": [
    {
     "data": {
      "text/html": [
       "<div>\n",
       "<style scoped>\n",
       "    .dataframe tbody tr th:only-of-type {\n",
       "        vertical-align: middle;\n",
       "    }\n",
       "\n",
       "    .dataframe tbody tr th {\n",
       "        vertical-align: top;\n",
       "    }\n",
       "\n",
       "    .dataframe thead th {\n",
       "        text-align: right;\n",
       "    }\n",
       "</style>\n",
       "<table border=\"1\" class=\"dataframe\">\n",
       "  <thead>\n",
       "    <tr style=\"text-align: right;\">\n",
       "      <th></th>\n",
       "      <th>age</th>\n",
       "      <th>anaemia</th>\n",
       "      <th>creatinine_phosphokinase</th>\n",
       "      <th>diabetes</th>\n",
       "      <th>ejection_fraction</th>\n",
       "      <th>high_blood_pressure</th>\n",
       "      <th>platelets</th>\n",
       "      <th>serum_creatinine</th>\n",
       "      <th>serum_sodium</th>\n",
       "      <th>sex</th>\n",
       "      <th>smoking</th>\n",
       "      <th>time_d</th>\n",
       "    </tr>\n",
       "  </thead>\n",
       "  <tbody>\n",
       "    <tr>\n",
       "      <th>132</th>\n",
       "      <td>46</td>\n",
       "      <td>0</td>\n",
       "      <td>719</td>\n",
       "      <td>0</td>\n",
       "      <td>40</td>\n",
       "      <td>1</td>\n",
       "      <td>263358.03</td>\n",
       "      <td>1.18</td>\n",
       "      <td>137</td>\n",
       "      <td>0</td>\n",
       "      <td>0</td>\n",
       "      <td>107</td>\n",
       "    </tr>\n",
       "    <tr>\n",
       "      <th>102</th>\n",
       "      <td>80</td>\n",
       "      <td>0</td>\n",
       "      <td>898</td>\n",
       "      <td>0</td>\n",
       "      <td>25</td>\n",
       "      <td>0</td>\n",
       "      <td>149000.00</td>\n",
       "      <td>1.10</td>\n",
       "      <td>144</td>\n",
       "      <td>1</td>\n",
       "      <td>1</td>\n",
       "      <td>87</td>\n",
       "    </tr>\n",
       "    <tr>\n",
       "      <th>294</th>\n",
       "      <td>62</td>\n",
       "      <td>0</td>\n",
       "      <td>61</td>\n",
       "      <td>1</td>\n",
       "      <td>38</td>\n",
       "      <td>1</td>\n",
       "      <td>155000.00</td>\n",
       "      <td>1.10</td>\n",
       "      <td>143</td>\n",
       "      <td>1</td>\n",
       "      <td>1</td>\n",
       "      <td>270</td>\n",
       "    </tr>\n",
       "    <tr>\n",
       "      <th>98</th>\n",
       "      <td>60</td>\n",
       "      <td>1</td>\n",
       "      <td>156</td>\n",
       "      <td>1</td>\n",
       "      <td>25</td>\n",
       "      <td>1</td>\n",
       "      <td>318000.00</td>\n",
       "      <td>1.20</td>\n",
       "      <td>137</td>\n",
       "      <td>0</td>\n",
       "      <td>0</td>\n",
       "      <td>85</td>\n",
       "    </tr>\n",
       "    <tr>\n",
       "      <th>239</th>\n",
       "      <td>55</td>\n",
       "      <td>1</td>\n",
       "      <td>180</td>\n",
       "      <td>0</td>\n",
       "      <td>45</td>\n",
       "      <td>0</td>\n",
       "      <td>263358.03</td>\n",
       "      <td>1.18</td>\n",
       "      <td>137</td>\n",
       "      <td>1</td>\n",
       "      <td>1</td>\n",
       "      <td>211</td>\n",
       "    </tr>\n",
       "  </tbody>\n",
       "</table>\n",
       "</div>"
      ],
      "text/plain": [
       "     age  anaemia  creatinine_phosphokinase  diabetes  ejection_fraction  \\\n",
       "132   46        0                       719         0                 40   \n",
       "102   80        0                       898         0                 25   \n",
       "294   62        0                        61         1                 38   \n",
       "98    60        1                       156         1                 25   \n",
       "239   55        1                       180         0                 45   \n",
       "\n",
       "     high_blood_pressure  platelets  serum_creatinine  serum_sodium  sex  \\\n",
       "132                    1  263358.03              1.18           137    0   \n",
       "102                    0  149000.00              1.10           144    1   \n",
       "294                    1  155000.00              1.10           143    1   \n",
       "98                     1  318000.00              1.20           137    0   \n",
       "239                    0  263358.03              1.18           137    1   \n",
       "\n",
       "     smoking  time_d  \n",
       "132        0     107  \n",
       "102        1      87  \n",
       "294        1     270  \n",
       "98         0      85  \n",
       "239        1     211  "
      ]
     },
     "execution_count": 62,
     "metadata": {},
     "output_type": "execute_result"
    }
   ],
   "source": [
    "X_train.head()"
   ]
  },
  {
   "cell_type": "code",
   "execution_count": 63,
   "id": "a2c51513-a061-4d8d-bd0f-2831379afcad",
   "metadata": {},
   "outputs": [],
   "source": [
    "Y_predicted = project_model.predict(X_test)"
   ]
  },
  {
   "cell_type": "code",
   "execution_count": 64,
   "id": "13b020bd-d999-4c13-a793-409c5c323c2b",
   "metadata": {},
   "outputs": [
    {
     "data": {
      "text/plain": [
       "array([0, 0, 1, 1, 1, 1, 1, 0, 1, 1, 1, 0, 1, 1, 1, 1, 1, 0, 0, 1, 0, 1,\n",
       "       1, 1, 1, 1, 0, 1, 1, 0, 1, 1, 0, 1, 1, 0, 0, 1, 0, 1, 1, 1, 1, 1,\n",
       "       1, 0, 1, 0, 1, 0, 1, 1, 1, 0, 1, 0, 1, 1, 1, 0], dtype=int64)"
      ]
     },
     "execution_count": 64,
     "metadata": {},
     "output_type": "execute_result"
    }
   ],
   "source": [
    "Y_predicted"
   ]
  },
  {
   "cell_type": "code",
   "execution_count": 65,
   "id": "00d88d48-0fe1-4bb6-889f-c6b6af8bf841",
   "metadata": {},
   "outputs": [
    {
     "data": {
      "text/plain": [
       "array([[9.02581571e-01, 9.74184293e-02],\n",
       "       [8.86603084e-01, 1.13396916e-01],\n",
       "       [1.90552798e-01, 8.09447202e-01],\n",
       "       [2.28335445e-02, 9.77166455e-01],\n",
       "       [2.73854836e-01, 7.26145164e-01],\n",
       "       [2.03916782e-01, 7.96083218e-01],\n",
       "       [2.55891026e-02, 9.74410897e-01],\n",
       "       [5.70744911e-01, 4.29255089e-01],\n",
       "       [2.39330320e-01, 7.60669680e-01],\n",
       "       [9.18939741e-02, 9.08106026e-01],\n",
       "       [2.66730351e-01, 7.33269649e-01],\n",
       "       [8.10434439e-01, 1.89565561e-01],\n",
       "       [3.73945486e-02, 9.62605451e-01],\n",
       "       [4.30235571e-02, 9.56976443e-01],\n",
       "       [2.56510352e-01, 7.43489648e-01],\n",
       "       [1.24217290e-01, 8.75782710e-01],\n",
       "       [1.71726416e-01, 8.28273584e-01],\n",
       "       [5.08561812e-01, 4.91438188e-01],\n",
       "       [8.77108193e-01, 1.22891807e-01],\n",
       "       [2.77999836e-01, 7.22000164e-01],\n",
       "       [6.94100253e-01, 3.05899747e-01],\n",
       "       [3.45026225e-01, 6.54973775e-01],\n",
       "       [9.43398439e-02, 9.05660156e-01],\n",
       "       [4.28098480e-01, 5.71901520e-01],\n",
       "       [1.32287819e-02, 9.86771218e-01],\n",
       "       [3.03998927e-01, 6.96001073e-01],\n",
       "       [9.02720141e-01, 9.72798594e-02],\n",
       "       [2.51344147e-01, 7.48655853e-01],\n",
       "       [2.95568568e-02, 9.70443143e-01],\n",
       "       [8.14800839e-01, 1.85199161e-01],\n",
       "       [1.92860502e-01, 8.07139498e-01],\n",
       "       [2.90277636e-01, 7.09722364e-01],\n",
       "       [5.54932798e-01, 4.45067202e-01],\n",
       "       [1.08011161e-01, 8.91988839e-01],\n",
       "       [3.67196256e-01, 6.32803744e-01],\n",
       "       [7.79457288e-01, 2.20542712e-01],\n",
       "       [9.00439695e-01, 9.95603054e-02],\n",
       "       [8.86669194e-02, 9.11333081e-01],\n",
       "       [6.34590005e-01, 3.65409995e-01],\n",
       "       [3.58164953e-01, 6.41835047e-01],\n",
       "       [8.66725809e-03, 9.91332742e-01],\n",
       "       [3.80514109e-01, 6.19485891e-01],\n",
       "       [3.30145988e-01, 6.69854012e-01],\n",
       "       [2.05763987e-01, 7.94236013e-01],\n",
       "       [4.62866239e-02, 9.53713376e-01],\n",
       "       [6.30484538e-01, 3.69515462e-01],\n",
       "       [3.14536241e-01, 6.85463759e-01],\n",
       "       [7.00315368e-01, 2.99684632e-01],\n",
       "       [3.00954678e-01, 6.99045322e-01],\n",
       "       [5.97580811e-01, 4.02419189e-01],\n",
       "       [1.95510392e-01, 8.04489608e-01],\n",
       "       [2.65604239e-02, 9.73439576e-01],\n",
       "       [2.41211656e-02, 9.75878834e-01],\n",
       "       [6.18694690e-01, 3.81305310e-01],\n",
       "       [4.08183438e-03, 9.95918166e-01],\n",
       "       [5.51111599e-01, 4.48888401e-01],\n",
       "       [3.07085032e-01, 6.92914968e-01],\n",
       "       [4.25478672e-02, 9.57452133e-01],\n",
       "       [8.32505309e-04, 9.99167495e-01],\n",
       "       [9.49120581e-01, 5.08794190e-02]])"
      ]
     },
     "execution_count": 65,
     "metadata": {},
     "output_type": "execute_result"
    }
   ],
   "source": [
    "project_model.predict_proba(X_test)"
   ]
  },
  {
   "cell_type": "code",
   "execution_count": 66,
   "id": "e3df777b-040d-4237-be59-fd3a7026283f",
   "metadata": {},
   "outputs": [],
   "source": [
    "combo = project_model.score(X_test, Y_test)"
   ]
  },
  {
   "cell_type": "code",
   "execution_count": 67,
   "id": "f558bb36-ed61-4faa-b502-085841bcaf4c",
   "metadata": {},
   "outputs": [
    {
     "data": {
      "text/plain": [
       "0.75"
      ]
     },
     "execution_count": 67,
     "metadata": {},
     "output_type": "execute_result"
    }
   ],
   "source": [
    "combo"
   ]
  },
  {
   "cell_type": "code",
   "execution_count": 68,
   "id": "8cf8a4a9-0e94-4d69-a4d1-56edcf1beaf0",
   "metadata": {},
   "outputs": [
    {
     "name": "stdout",
     "output_type": "stream",
     "text": [
      "Model accuracy with %80 training is for the complete features before normalization             :% 75.0\n"
     ]
    }
   ],
   "source": [
    "print('Model accuracy with %80 training is for the complete features before normalization             :'+'%',combo *100,)"
   ]
  },
  {
   "cell_type": "code",
   "execution_count": 69,
   "id": "a3432dd1-111f-4992-b407-2ac9f04047f7",
   "metadata": {},
   "outputs": [
    {
     "data": {
      "text/html": [
       "<div>\n",
       "<style scoped>\n",
       "    .dataframe tbody tr th:only-of-type {\n",
       "        vertical-align: middle;\n",
       "    }\n",
       "\n",
       "    .dataframe tbody tr th {\n",
       "        vertical-align: top;\n",
       "    }\n",
       "\n",
       "    .dataframe thead th {\n",
       "        text-align: right;\n",
       "    }\n",
       "</style>\n",
       "<table border=\"1\" class=\"dataframe\">\n",
       "  <thead>\n",
       "    <tr style=\"text-align: right;\">\n",
       "      <th></th>\n",
       "      <th>age</th>\n",
       "      <th>anaemia</th>\n",
       "      <th>creatinine_phosphokinase</th>\n",
       "      <th>diabetes</th>\n",
       "      <th>ejection_fraction</th>\n",
       "      <th>high_blood_pressure</th>\n",
       "      <th>platelets</th>\n",
       "      <th>serum_creatinine</th>\n",
       "      <th>serum_sodium</th>\n",
       "      <th>sex</th>\n",
       "      <th>smoking</th>\n",
       "      <th>time_d</th>\n",
       "    </tr>\n",
       "  </thead>\n",
       "  <tbody>\n",
       "    <tr>\n",
       "      <th>30</th>\n",
       "      <td>94</td>\n",
       "      <td>0</td>\n",
       "      <td>582</td>\n",
       "      <td>1</td>\n",
       "      <td>38</td>\n",
       "      <td>1</td>\n",
       "      <td>263358.03</td>\n",
       "      <td>1.83</td>\n",
       "      <td>134</td>\n",
       "      <td>1</td>\n",
       "      <td>0</td>\n",
       "      <td>27</td>\n",
       "    </tr>\n",
       "    <tr>\n",
       "      <th>4</th>\n",
       "      <td>65</td>\n",
       "      <td>1</td>\n",
       "      <td>160</td>\n",
       "      <td>1</td>\n",
       "      <td>20</td>\n",
       "      <td>0</td>\n",
       "      <td>327000.00</td>\n",
       "      <td>2.70</td>\n",
       "      <td>116</td>\n",
       "      <td>0</td>\n",
       "      <td>0</td>\n",
       "      <td>8</td>\n",
       "    </tr>\n",
       "    <tr>\n",
       "      <th>168</th>\n",
       "      <td>65</td>\n",
       "      <td>0</td>\n",
       "      <td>582</td>\n",
       "      <td>1</td>\n",
       "      <td>40</td>\n",
       "      <td>0</td>\n",
       "      <td>270000.00</td>\n",
       "      <td>1.00</td>\n",
       "      <td>138</td>\n",
       "      <td>0</td>\n",
       "      <td>0</td>\n",
       "      <td>140</td>\n",
       "    </tr>\n",
       "    <tr>\n",
       "      <th>248</th>\n",
       "      <td>40</td>\n",
       "      <td>0</td>\n",
       "      <td>624</td>\n",
       "      <td>0</td>\n",
       "      <td>35</td>\n",
       "      <td>0</td>\n",
       "      <td>301000.00</td>\n",
       "      <td>1.00</td>\n",
       "      <td>142</td>\n",
       "      <td>1</td>\n",
       "      <td>1</td>\n",
       "      <td>214</td>\n",
       "    </tr>\n",
       "    <tr>\n",
       "      <th>181</th>\n",
       "      <td>59</td>\n",
       "      <td>1</td>\n",
       "      <td>176</td>\n",
       "      <td>1</td>\n",
       "      <td>25</td>\n",
       "      <td>0</td>\n",
       "      <td>221000.00</td>\n",
       "      <td>1.00</td>\n",
       "      <td>136</td>\n",
       "      <td>1</td>\n",
       "      <td>1</td>\n",
       "      <td>150</td>\n",
       "    </tr>\n",
       "  </tbody>\n",
       "</table>\n",
       "</div>"
      ],
      "text/plain": [
       "     age  anaemia  creatinine_phosphokinase  diabetes  ejection_fraction  \\\n",
       "30    94        0                       582         1                 38   \n",
       "4     65        1                       160         1                 20   \n",
       "168   65        0                       582         1                 40   \n",
       "248   40        0                       624         0                 35   \n",
       "181   59        1                       176         1                 25   \n",
       "\n",
       "     high_blood_pressure  platelets  serum_creatinine  serum_sodium  sex  \\\n",
       "30                     1  263358.03              1.83           134    1   \n",
       "4                      0  327000.00              2.70           116    0   \n",
       "168                    0  270000.00              1.00           138    0   \n",
       "248                    0  301000.00              1.00           142    1   \n",
       "181                    0  221000.00              1.00           136    1   \n",
       "\n",
       "     smoking  time_d  \n",
       "30         0      27  \n",
       "4          0       8  \n",
       "168        0     140  \n",
       "248        1     214  \n",
       "181        1     150  "
      ]
     },
     "execution_count": 69,
     "metadata": {},
     "output_type": "execute_result"
    }
   ],
   "source": [
    "X_test.head()"
   ]
  },
  {
   "cell_type": "code",
   "execution_count": 70,
   "id": "df2e7e5c-0e07-40f4-b8dd-3c49bb85ea1e",
   "metadata": {},
   "outputs": [
    {
     "name": "stdout",
     "output_type": "stream",
     "text": [
      "[0] [[75, 1, 246, 0, 15, 0, 127000, 1.2, 137, 1, 0, 10]]\n"
     ]
    }
   ],
   "source": [
    "new_input=[[75,1,246,0,15,0,127000,1.2,137,1,0,10]] # If the person is within normal range, the prediction is 0 = no death\n",
    "new_output = project_model.predict(new_input)\n",
    "print(new_output, new_input)"
   ]
  },
  {
   "cell_type": "code",
   "execution_count": 71,
   "id": "7212f40b-4e84-489f-a986-7ddb2ea8842f",
   "metadata": {},
   "outputs": [
    {
     "name": "stdout",
     "output_type": "stream",
     "text": [
      "[1] [[70, 0, 582, 1, 38, 0, 25100, 1.1, 140, 1, 0, 200]]\n"
     ]
    }
   ],
   "source": [
    "new_input=[[70,0,582,1,38,0,25100,1.1,140,1,0,200]] # If the person is not within normal range, the prediction is 1 = death\n",
    "new_output = project_model.predict(new_input)\n",
    "print(new_output, new_input)"
   ]
  },
  {
   "cell_type": "markdown",
   "id": "780c6b5d-7358-4fe5-8035-d74eb6f772bf",
   "metadata": {},
   "source": [
    "<h2 style='color:Orange' align=\"center\">After Normalizing the Dataset</h2>"
   ]
  },
  {
   "cell_type": "code",
   "execution_count": 72,
   "id": "29e6a9c6-a385-4b08-add4-ee1fc822c2bd",
   "metadata": {},
   "outputs": [],
   "source": [
    "normalized_project_df = (project_df-project_df.min())/(project_df.max()-project_df.min())"
   ]
  },
  {
   "cell_type": "code",
   "execution_count": 73,
   "id": "68541c5f-6ed4-4e09-b575-e3155fcd9474",
   "metadata": {},
   "outputs": [
    {
     "data": {
      "text/html": [
       "<div>\n",
       "<style scoped>\n",
       "    .dataframe tbody tr th:only-of-type {\n",
       "        vertical-align: middle;\n",
       "    }\n",
       "\n",
       "    .dataframe tbody tr th {\n",
       "        vertical-align: top;\n",
       "    }\n",
       "\n",
       "    .dataframe thead th {\n",
       "        text-align: right;\n",
       "    }\n",
       "</style>\n",
       "<table border=\"1\" class=\"dataframe\">\n",
       "  <thead>\n",
       "    <tr style=\"text-align: right;\">\n",
       "      <th></th>\n",
       "      <th>age</th>\n",
       "      <th>anaemia</th>\n",
       "      <th>creatinine_phosphokinase</th>\n",
       "      <th>diabetes</th>\n",
       "      <th>ejection_fraction</th>\n",
       "      <th>high_blood_pressure</th>\n",
       "      <th>platelets</th>\n",
       "      <th>serum_creatinine</th>\n",
       "      <th>serum_sodium</th>\n",
       "      <th>sex</th>\n",
       "      <th>smoking</th>\n",
       "      <th>time_d</th>\n",
       "      <th>DEATH_EVENT</th>\n",
       "    </tr>\n",
       "  </thead>\n",
       "  <tbody>\n",
       "    <tr>\n",
       "      <th>0</th>\n",
       "      <td>0.636364</td>\n",
       "      <td>0.0</td>\n",
       "      <td>0.071319</td>\n",
       "      <td>0.0</td>\n",
       "      <td>0.090909</td>\n",
       "      <td>1.0</td>\n",
       "      <td>0.290823</td>\n",
       "      <td>0.157303</td>\n",
       "      <td>0.485714</td>\n",
       "      <td>1.0</td>\n",
       "      <td>0.0</td>\n",
       "      <td>0.000000</td>\n",
       "      <td>0.0</td>\n",
       "    </tr>\n",
       "    <tr>\n",
       "      <th>1</th>\n",
       "      <td>0.272727</td>\n",
       "      <td>0.0</td>\n",
       "      <td>1.000000</td>\n",
       "      <td>0.0</td>\n",
       "      <td>0.363636</td>\n",
       "      <td>0.0</td>\n",
       "      <td>0.288833</td>\n",
       "      <td>0.067416</td>\n",
       "      <td>0.657143</td>\n",
       "      <td>1.0</td>\n",
       "      <td>0.0</td>\n",
       "      <td>0.007117</td>\n",
       "      <td>0.0</td>\n",
       "    </tr>\n",
       "    <tr>\n",
       "      <th>2</th>\n",
       "      <td>0.454545</td>\n",
       "      <td>0.0</td>\n",
       "      <td>0.015693</td>\n",
       "      <td>0.0</td>\n",
       "      <td>0.090909</td>\n",
       "      <td>0.0</td>\n",
       "      <td>0.165960</td>\n",
       "      <td>0.089888</td>\n",
       "      <td>0.457143</td>\n",
       "      <td>1.0</td>\n",
       "      <td>1.0</td>\n",
       "      <td>0.010676</td>\n",
       "      <td>0.0</td>\n",
       "    </tr>\n",
       "    <tr>\n",
       "      <th>3</th>\n",
       "      <td>0.181818</td>\n",
       "      <td>1.0</td>\n",
       "      <td>0.011227</td>\n",
       "      <td>0.0</td>\n",
       "      <td>0.090909</td>\n",
       "      <td>0.0</td>\n",
       "      <td>0.224148</td>\n",
       "      <td>0.157303</td>\n",
       "      <td>0.685714</td>\n",
       "      <td>1.0</td>\n",
       "      <td>0.0</td>\n",
       "      <td>0.010676</td>\n",
       "      <td>0.0</td>\n",
       "    </tr>\n",
       "    <tr>\n",
       "      <th>4</th>\n",
       "      <td>0.454545</td>\n",
       "      <td>1.0</td>\n",
       "      <td>0.017479</td>\n",
       "      <td>1.0</td>\n",
       "      <td>0.090909</td>\n",
       "      <td>0.0</td>\n",
       "      <td>0.365984</td>\n",
       "      <td>0.247191</td>\n",
       "      <td>0.085714</td>\n",
       "      <td>0.0</td>\n",
       "      <td>0.0</td>\n",
       "      <td>0.014235</td>\n",
       "      <td>0.0</td>\n",
       "    </tr>\n",
       "  </tbody>\n",
       "</table>\n",
       "</div>"
      ],
      "text/plain": [
       "        age  anaemia  creatinine_phosphokinase  diabetes  ejection_fraction  \\\n",
       "0  0.636364      0.0                  0.071319       0.0           0.090909   \n",
       "1  0.272727      0.0                  1.000000       0.0           0.363636   \n",
       "2  0.454545      0.0                  0.015693       0.0           0.090909   \n",
       "3  0.181818      1.0                  0.011227       0.0           0.090909   \n",
       "4  0.454545      1.0                  0.017479       1.0           0.090909   \n",
       "\n",
       "   high_blood_pressure  platelets  serum_creatinine  serum_sodium  sex  \\\n",
       "0                  1.0   0.290823          0.157303      0.485714  1.0   \n",
       "1                  0.0   0.288833          0.067416      0.657143  1.0   \n",
       "2                  0.0   0.165960          0.089888      0.457143  1.0   \n",
       "3                  0.0   0.224148          0.157303      0.685714  1.0   \n",
       "4                  0.0   0.365984          0.247191      0.085714  0.0   \n",
       "\n",
       "   smoking    time_d  DEATH_EVENT  \n",
       "0      0.0  0.000000          0.0  \n",
       "1      0.0  0.007117          0.0  \n",
       "2      1.0  0.010676          0.0  \n",
       "3      0.0  0.010676          0.0  \n",
       "4      0.0  0.014235          0.0  "
      ]
     },
     "execution_count": 73,
     "metadata": {},
     "output_type": "execute_result"
    }
   ],
   "source": [
    "normalized_project_df.head()"
   ]
  },
  {
   "cell_type": "code",
   "execution_count": 74,
   "id": "c61615d5-8c08-4507-91ff-0d464d728290",
   "metadata": {},
   "outputs": [],
   "source": [
    "normalized_project_df.to_csv('Normalized Dataset.csv')"
   ]
  },
  {
   "cell_type": "code",
   "execution_count": 75,
   "id": "e899aef3-e647-4315-8357-1a25e65e2daa",
   "metadata": {},
   "outputs": [],
   "source": [
    "normlized_df_similarity_age= cosine_similarity([project_df.DEATH_EVENT], [normalized_project_df.age])\n",
    "normlized_df_similarity_creatinine_phosphokinase= cosine_similarity([project_df.DEATH_EVENT], [normalized_project_df.creatinine_phosphokinase])\n",
    "normlized_df_similarity_anaemia= cosine_similarity([project_df.DEATH_EVENT], [normalized_project_df.anaemia])\n",
    "normlized_df_similarity_diabetes= cosine_similarity([project_df.DEATH_EVENT], [normalized_project_df.diabetes])\n",
    "normlized_df_similarity_ejection_fraction= cosine_similarity([project_df.DEATH_EVENT], [normalized_project_df.ejection_fraction])\n",
    "normlized_df_similarity_high_blood_pressure= cosine_similarity([project_df.DEATH_EVENT], [normalized_project_df.high_blood_pressure])\n",
    "normlized_df_similarity_platelets= cosine_similarity([project_df.DEATH_EVENT], [normalized_project_df.platelets])\n",
    "normlized_df_similarity_serum_creatinine= cosine_similarity([project_df.DEATH_EVENT], [normalized_project_df.serum_creatinine])\n",
    "normlized_df_similarity_serum_sodium= cosine_similarity([project_df.DEATH_EVENT], [normalized_project_df.serum_sodium])\n",
    "normlized_df_similarity_sex= cosine_similarity([project_df.DEATH_EVENT], [normalized_project_df.sex])\n",
    "normlized_df_similarity_smoking= cosine_similarity([project_df.DEATH_EVENT], [normalized_project_df.smoking])\n",
    "normlized_df_similarity_time_d= cosine_similarity([project_df.DEATH_EVENT], [normalized_project_df.time_d])"
   ]
  },
  {
   "cell_type": "code",
   "execution_count": 76,
   "id": "827972f4-7784-4c8b-ae77-63963bf91597",
   "metadata": {},
   "outputs": [
    {
     "name": "stdout",
     "output_type": "stream",
     "text": [
      "Cosine similarity between Death Event and Normalized Age                      : [[0.64464945]]\n",
      "Cosine similarity between Death Event and Normalized Anaemia                  : [[0.51290298]]\n",
      "Cosine similarity between Death Event and Normalized Creatinine Phosphokinase : [[0.38096694]]\n",
      "Cosine similarity between Death Event and Normalized Diabetes                 : [[0.5336001]]\n",
      "Cosine similarity between Death Event and Normalized Ejection Fraction        : [[0.8067822]]\n",
      "Cosine similarity between Death Event and Normalized High Blood Pressure      : [[0.4520654]]\n",
      "Cosine similarity between Death Event and Normalized Platelets                : [[0.77299079]]\n",
      "Cosine similarity between Death Event and Normalized Serum Creatinine         : [[0.41315169]]\n",
      "Cosine similarity between Death Event and Normalized Serum Sodium             : [[0.83028606]]\n",
      "Cosine similarity between Death Event and Normalized Sex                      : [[0.66515835]]\n",
      "Cosine similarity between Death Event and Normalized Smaking                  : [[0.47278131]]\n",
      "Cosine similarity between Death Event and Normalized Followup Time            : [[0.85845328]]\n"
     ]
    }
   ],
   "source": [
    "print('Cosine similarity between Death Event and Normalized Age                      :', normlized_df_similarity_age)\n",
    "print('Cosine similarity between Death Event and Normalized Anaemia                  :', normlized_df_similarity_anaemia)\n",
    "print('Cosine similarity between Death Event and Normalized Creatinine Phosphokinase :', normlized_df_similarity_creatinine_phosphokinase)\n",
    "print('Cosine similarity between Death Event and Normalized Diabetes                 :', normlized_df_similarity_diabetes)\n",
    "print('Cosine similarity between Death Event and Normalized Ejection Fraction        :', normlized_df_similarity_ejection_fraction)\n",
    "print('Cosine similarity between Death Event and Normalized High Blood Pressure      :', normlized_df_similarity_high_blood_pressure)\n",
    "print('Cosine similarity between Death Event and Normalized Platelets                :', normlized_df_similarity_platelets)\n",
    "print('Cosine similarity between Death Event and Normalized Serum Creatinine         :', normlized_df_similarity_serum_creatinine)\n",
    "print('Cosine similarity between Death Event and Normalized Serum Sodium             :', normlized_df_similarity_serum_sodium)\n",
    "print('Cosine similarity between Death Event and Normalized Sex                      :', normlized_df_similarity_sex)\n",
    "print('Cosine similarity between Death Event and Normalized Smaking                  :', normlized_df_similarity_smoking)\n",
    "print('Cosine similarity between Death Event and Normalized Followup Time            :', normlized_df_similarity_time_d)"
   ]
  },
  {
   "cell_type": "code",
   "execution_count": 85,
   "id": "5692cd79-3618-4f20-a296-7bd3c629b5d7",
   "metadata": {},
   "outputs": [],
   "source": [
    "X_train, X_test, Y_train, Y_test = train_test_split(normalized_project_df[['age','anaemia','creatinine_phosphokinase', 'diabetes','ejection_fraction','high_blood_pressure','platelets','serum_creatinine','serum_sodium','sex','smoking','time_d'\n",
    "]], normalized_project_df.DEATH_EVENT, train_size=0.8)"
   ]
  },
  {
   "cell_type": "code",
   "execution_count": 86,
   "id": "912e7a11-08da-4792-85c5-edca46d71fac",
   "metadata": {},
   "outputs": [
    {
     "data": {
      "text/plain": [
       "LogisticRegression()"
      ]
     },
     "execution_count": 86,
     "metadata": {},
     "output_type": "execute_result"
    }
   ],
   "source": [
    "project_model.fit(X_train, Y_train)"
   ]
  },
  {
   "cell_type": "code",
   "execution_count": 87,
   "id": "26cf94b3-476b-4190-8c49-7dd1b34591b8",
   "metadata": {},
   "outputs": [
    {
     "data": {
      "text/html": [
       "<div>\n",
       "<style scoped>\n",
       "    .dataframe tbody tr th:only-of-type {\n",
       "        vertical-align: middle;\n",
       "    }\n",
       "\n",
       "    .dataframe tbody tr th {\n",
       "        vertical-align: top;\n",
       "    }\n",
       "\n",
       "    .dataframe thead th {\n",
       "        text-align: right;\n",
       "    }\n",
       "</style>\n",
       "<table border=\"1\" class=\"dataframe\">\n",
       "  <thead>\n",
       "    <tr style=\"text-align: right;\">\n",
       "      <th></th>\n",
       "      <th>age</th>\n",
       "      <th>anaemia</th>\n",
       "      <th>creatinine_phosphokinase</th>\n",
       "      <th>diabetes</th>\n",
       "      <th>ejection_fraction</th>\n",
       "      <th>high_blood_pressure</th>\n",
       "      <th>platelets</th>\n",
       "      <th>serum_creatinine</th>\n",
       "      <th>serum_sodium</th>\n",
       "      <th>sex</th>\n",
       "      <th>smoking</th>\n",
       "      <th>time_d</th>\n",
       "    </tr>\n",
       "  </thead>\n",
       "  <tbody>\n",
       "    <tr>\n",
       "      <th>191</th>\n",
       "      <td>0.436364</td>\n",
       "      <td>1.0</td>\n",
       "      <td>0.004976</td>\n",
       "      <td>0.0</td>\n",
       "      <td>0.696970</td>\n",
       "      <td>0.0</td>\n",
       "      <td>0.344163</td>\n",
       "      <td>0.112360</td>\n",
       "      <td>0.628571</td>\n",
       "      <td>0.0</td>\n",
       "      <td>0.0</td>\n",
       "      <td>0.604982</td>\n",
       "    </tr>\n",
       "    <tr>\n",
       "      <th>31</th>\n",
       "      <td>0.818182</td>\n",
       "      <td>0.0</td>\n",
       "      <td>0.000000</td>\n",
       "      <td>0.0</td>\n",
       "      <td>0.469697</td>\n",
       "      <td>0.0</td>\n",
       "      <td>0.405989</td>\n",
       "      <td>0.280899</td>\n",
       "      <td>0.542857</td>\n",
       "      <td>1.0</td>\n",
       "      <td>0.0</td>\n",
       "      <td>0.085409</td>\n",
       "    </tr>\n",
       "    <tr>\n",
       "      <th>246</th>\n",
       "      <td>0.272727</td>\n",
       "      <td>0.0</td>\n",
       "      <td>0.254402</td>\n",
       "      <td>0.0</td>\n",
       "      <td>0.166667</td>\n",
       "      <td>0.0</td>\n",
       "      <td>0.350224</td>\n",
       "      <td>0.067416</td>\n",
       "      <td>0.714286</td>\n",
       "      <td>1.0</td>\n",
       "      <td>0.0</td>\n",
       "      <td>0.747331</td>\n",
       "    </tr>\n",
       "    <tr>\n",
       "      <th>156</th>\n",
       "      <td>0.218182</td>\n",
       "      <td>1.0</td>\n",
       "      <td>0.004465</td>\n",
       "      <td>0.0</td>\n",
       "      <td>0.318182</td>\n",
       "      <td>0.0</td>\n",
       "      <td>0.305370</td>\n",
       "      <td>0.101124</td>\n",
       "      <td>0.657143</td>\n",
       "      <td>0.0</td>\n",
       "      <td>0.0</td>\n",
       "      <td>0.412811</td>\n",
       "    </tr>\n",
       "    <tr>\n",
       "      <th>280</th>\n",
       "      <td>0.545455</td>\n",
       "      <td>0.0</td>\n",
       "      <td>0.340903</td>\n",
       "      <td>1.0</td>\n",
       "      <td>0.393939</td>\n",
       "      <td>0.0</td>\n",
       "      <td>0.261729</td>\n",
       "      <td>0.056180</td>\n",
       "      <td>0.685714</td>\n",
       "      <td>1.0</td>\n",
       "      <td>0.0</td>\n",
       "      <td>0.864769</td>\n",
       "    </tr>\n",
       "  </tbody>\n",
       "</table>\n",
       "</div>"
      ],
      "text/plain": [
       "          age  anaemia  creatinine_phosphokinase  diabetes  ejection_fraction  \\\n",
       "191  0.436364      1.0                  0.004976       0.0           0.696970   \n",
       "31   0.818182      0.0                  0.000000       0.0           0.469697   \n",
       "246  0.272727      0.0                  0.254402       0.0           0.166667   \n",
       "156  0.218182      1.0                  0.004465       0.0           0.318182   \n",
       "280  0.545455      0.0                  0.340903       1.0           0.393939   \n",
       "\n",
       "     high_blood_pressure  platelets  serum_creatinine  serum_sodium  sex  \\\n",
       "191                  0.0   0.344163          0.112360      0.628571  0.0   \n",
       "31                   0.0   0.405989          0.280899      0.542857  1.0   \n",
       "246                  0.0   0.350224          0.067416      0.714286  1.0   \n",
       "156                  0.0   0.305370          0.101124      0.657143  0.0   \n",
       "280                  0.0   0.261729          0.056180      0.685714  1.0   \n",
       "\n",
       "     smoking    time_d  \n",
       "191      0.0  0.604982  \n",
       "31       0.0  0.085409  \n",
       "246      0.0  0.747331  \n",
       "156      0.0  0.412811  \n",
       "280      0.0  0.864769  "
      ]
     },
     "execution_count": 87,
     "metadata": {},
     "output_type": "execute_result"
    }
   ],
   "source": [
    "X_train.head()"
   ]
  },
  {
   "cell_type": "code",
   "execution_count": 88,
   "id": "1418a30d-8188-4950-86a2-08f03fa79656",
   "metadata": {},
   "outputs": [],
   "source": [
    "Y_predicted = project_model.predict(X_test)"
   ]
  },
  {
   "cell_type": "code",
   "execution_count": 89,
   "id": "98c8612f-f144-4127-8330-484dceaeac46",
   "metadata": {},
   "outputs": [
    {
     "data": {
      "text/plain": [
       "array([1., 1., 1., 1., 1., 1., 1., 1., 1., 0., 1., 1., 1., 1., 1., 1., 0.,\n",
       "       0., 1., 1., 1., 1., 1., 0., 1., 0., 0., 0., 1., 1., 1., 0., 1., 0.,\n",
       "       1., 1., 1., 1., 1., 0., 1., 1., 1., 1., 1., 1., 0., 1., 1., 1., 1.,\n",
       "       1., 1., 0., 1., 1., 1., 0., 0., 1.])"
      ]
     },
     "execution_count": 89,
     "metadata": {},
     "output_type": "execute_result"
    }
   ],
   "source": [
    "Y_predicted"
   ]
  },
  {
   "cell_type": "code",
   "execution_count": 90,
   "id": "77dfdded-3c77-4593-abc9-2dcd8ca648c5",
   "metadata": {},
   "outputs": [
    {
     "data": {
      "text/plain": [
       "array([[0.24869485, 0.75130515],\n",
       "       [0.15937654, 0.84062346],\n",
       "       [0.33457909, 0.66542091],\n",
       "       [0.10430996, 0.89569004],\n",
       "       [0.19843109, 0.80156891],\n",
       "       [0.38176579, 0.61823421],\n",
       "       [0.22076648, 0.77923352],\n",
       "       [0.27341033, 0.72658967],\n",
       "       [0.3890352 , 0.6109648 ],\n",
       "       [0.68121127, 0.31878873],\n",
       "       [0.03435252, 0.96564748],\n",
       "       [0.02233623, 0.97766377],\n",
       "       [0.45319899, 0.54680101],\n",
       "       [0.1537373 , 0.8462627 ],\n",
       "       [0.38058912, 0.61941088],\n",
       "       [0.14209622, 0.85790378],\n",
       "       [0.51347463, 0.48652537],\n",
       "       [0.65272867, 0.34727133],\n",
       "       [0.19835474, 0.80164526],\n",
       "       [0.37094714, 0.62905286],\n",
       "       [0.12637319, 0.87362681],\n",
       "       [0.25070813, 0.74929187],\n",
       "       [0.06577619, 0.93422381],\n",
       "       [0.62946989, 0.37053011],\n",
       "       [0.17332115, 0.82667885],\n",
       "       [0.74032172, 0.25967828],\n",
       "       [0.74879886, 0.25120114],\n",
       "       [0.50749821, 0.49250179],\n",
       "       [0.10277331, 0.89722669],\n",
       "       [0.16843617, 0.83156383],\n",
       "       [0.25180083, 0.74819917],\n",
       "       [0.51258385, 0.48741615],\n",
       "       [0.1543769 , 0.8456231 ],\n",
       "       [0.52391259, 0.47608741],\n",
       "       [0.08256185, 0.91743815],\n",
       "       [0.17525444, 0.82474556],\n",
       "       [0.09047154, 0.90952846],\n",
       "       [0.28894324, 0.71105676],\n",
       "       [0.08730471, 0.91269529],\n",
       "       [0.60540417, 0.39459583],\n",
       "       [0.3557056 , 0.6442944 ],\n",
       "       [0.08687046, 0.91312954],\n",
       "       [0.33488728, 0.66511272],\n",
       "       [0.1116811 , 0.8883189 ],\n",
       "       [0.05702114, 0.94297886],\n",
       "       [0.37889877, 0.62110123],\n",
       "       [0.56011693, 0.43988307],\n",
       "       [0.15608762, 0.84391238],\n",
       "       [0.47499647, 0.52500353],\n",
       "       [0.49462774, 0.50537226],\n",
       "       [0.18356515, 0.81643485],\n",
       "       [0.3209037 , 0.6790963 ],\n",
       "       [0.35408501, 0.64591499],\n",
       "       [0.52437631, 0.47562369],\n",
       "       [0.20383965, 0.79616035],\n",
       "       [0.10818397, 0.89181603],\n",
       "       [0.32481338, 0.67518662],\n",
       "       [0.59532643, 0.40467357],\n",
       "       [0.70633066, 0.29366934],\n",
       "       [0.43007506, 0.56992494]])"
      ]
     },
     "execution_count": 90,
     "metadata": {},
     "output_type": "execute_result"
    }
   ],
   "source": [
    "project_model.predict_proba(X_test)"
   ]
  },
  {
   "cell_type": "code",
   "execution_count": 91,
   "id": "210b230c-492f-445a-b70f-b8b856d8e8db",
   "metadata": {},
   "outputs": [],
   "source": [
    "normalize_combo = project_model.score(X_test, Y_test)"
   ]
  },
  {
   "cell_type": "code",
   "execution_count": 92,
   "id": "2172d016-7001-4ea9-bc7b-3f31d0d200a4",
   "metadata": {},
   "outputs": [
    {
     "data": {
      "text/plain": [
       "0.8333333333333334"
      ]
     },
     "execution_count": 92,
     "metadata": {},
     "output_type": "execute_result"
    }
   ],
   "source": [
    "normalize_combo"
   ]
  },
  {
   "cell_type": "code",
   "execution_count": 93,
   "id": "9a6c8f3b-c03f-4eb6-a91f-dc56d19ca520",
   "metadata": {},
   "outputs": [
    {
     "name": "stdout",
     "output_type": "stream",
     "text": [
      "Model accuracy with %80 training is for the complete features before normalization            :% 75.0\n",
      "Model accuracy with %80 training is for the complete features after normalization             :% 83.33333333333334\n"
     ]
    }
   ],
   "source": [
    "print('Model accuracy with %80 training is for the complete features before normalization            :'+'%',combo *100,)\n",
    "print('Model accuracy with %80 training is for the complete features after normalization             :'+'%',normalize_combo *100,)"
   ]
  },
  {
   "cell_type": "code",
   "execution_count": 94,
   "id": "42b55b2b-56d2-426a-b760-43af39baa2dc",
   "metadata": {},
   "outputs": [
    {
     "data": {
      "text/html": [
       "<div>\n",
       "<style scoped>\n",
       "    .dataframe tbody tr th:only-of-type {\n",
       "        vertical-align: middle;\n",
       "    }\n",
       "\n",
       "    .dataframe tbody tr th {\n",
       "        vertical-align: top;\n",
       "    }\n",
       "\n",
       "    .dataframe thead th {\n",
       "        text-align: right;\n",
       "    }\n",
       "</style>\n",
       "<table border=\"1\" class=\"dataframe\">\n",
       "  <thead>\n",
       "    <tr style=\"text-align: right;\">\n",
       "      <th></th>\n",
       "      <th>age</th>\n",
       "      <th>anaemia</th>\n",
       "      <th>creatinine_phosphokinase</th>\n",
       "      <th>diabetes</th>\n",
       "      <th>ejection_fraction</th>\n",
       "      <th>high_blood_pressure</th>\n",
       "      <th>platelets</th>\n",
       "      <th>serum_creatinine</th>\n",
       "      <th>serum_sodium</th>\n",
       "      <th>sex</th>\n",
       "      <th>smoking</th>\n",
       "      <th>time_d</th>\n",
       "    </tr>\n",
       "  </thead>\n",
       "  <tbody>\n",
       "    <tr>\n",
       "      <th>188</th>\n",
       "      <td>0.363636</td>\n",
       "      <td>1.0</td>\n",
       "      <td>0.016331</td>\n",
       "      <td>1.0</td>\n",
       "      <td>0.393939</td>\n",
       "      <td>1.0</td>\n",
       "      <td>0.213238</td>\n",
       "      <td>0.056180</td>\n",
       "      <td>0.657143</td>\n",
       "      <td>0.0</td>\n",
       "      <td>0.0</td>\n",
       "      <td>0.597865</td>\n",
       "    </tr>\n",
       "    <tr>\n",
       "      <th>214</th>\n",
       "      <td>0.454545</td>\n",
       "      <td>1.0</td>\n",
       "      <td>0.014289</td>\n",
       "      <td>0.0</td>\n",
       "      <td>0.318182</td>\n",
       "      <td>1.0</td>\n",
       "      <td>0.321130</td>\n",
       "      <td>0.033708</td>\n",
       "      <td>0.600000</td>\n",
       "      <td>1.0</td>\n",
       "      <td>0.0</td>\n",
       "      <td>0.676157</td>\n",
       "    </tr>\n",
       "    <tr>\n",
       "      <th>203</th>\n",
       "      <td>0.363636</td>\n",
       "      <td>0.0</td>\n",
       "      <td>0.004593</td>\n",
       "      <td>0.0</td>\n",
       "      <td>0.166667</td>\n",
       "      <td>1.0</td>\n",
       "      <td>0.226573</td>\n",
       "      <td>0.337079</td>\n",
       "      <td>0.657143</td>\n",
       "      <td>1.0</td>\n",
       "      <td>1.0</td>\n",
       "      <td>0.651246</td>\n",
       "    </tr>\n",
       "    <tr>\n",
       "      <th>293</th>\n",
       "      <td>0.418182</td>\n",
       "      <td>1.0</td>\n",
       "      <td>0.010207</td>\n",
       "      <td>1.0</td>\n",
       "      <td>0.318182</td>\n",
       "      <td>0.0</td>\n",
       "      <td>0.186568</td>\n",
       "      <td>0.044944</td>\n",
       "      <td>0.657143</td>\n",
       "      <td>1.0</td>\n",
       "      <td>1.0</td>\n",
       "      <td>0.946619</td>\n",
       "    </tr>\n",
       "    <tr>\n",
       "      <th>240</th>\n",
       "      <td>0.545455</td>\n",
       "      <td>0.0</td>\n",
       "      <td>0.007400</td>\n",
       "      <td>1.0</td>\n",
       "      <td>0.318182</td>\n",
       "      <td>1.0</td>\n",
       "      <td>0.615711</td>\n",
       "      <td>0.089888</td>\n",
       "      <td>0.742857</td>\n",
       "      <td>0.0</td>\n",
       "      <td>0.0</td>\n",
       "      <td>0.740214</td>\n",
       "    </tr>\n",
       "  </tbody>\n",
       "</table>\n",
       "</div>"
      ],
      "text/plain": [
       "          age  anaemia  creatinine_phosphokinase  diabetes  ejection_fraction  \\\n",
       "188  0.363636      1.0                  0.016331       1.0           0.393939   \n",
       "214  0.454545      1.0                  0.014289       0.0           0.318182   \n",
       "203  0.363636      0.0                  0.004593       0.0           0.166667   \n",
       "293  0.418182      1.0                  0.010207       1.0           0.318182   \n",
       "240  0.545455      0.0                  0.007400       1.0           0.318182   \n",
       "\n",
       "     high_blood_pressure  platelets  serum_creatinine  serum_sodium  sex  \\\n",
       "188                  1.0   0.213238          0.056180      0.657143  0.0   \n",
       "214                  1.0   0.321130          0.033708      0.600000  1.0   \n",
       "203                  1.0   0.226573          0.337079      0.657143  1.0   \n",
       "293                  0.0   0.186568          0.044944      0.657143  1.0   \n",
       "240                  1.0   0.615711          0.089888      0.742857  0.0   \n",
       "\n",
       "     smoking    time_d  \n",
       "188      0.0  0.597865  \n",
       "214      0.0  0.676157  \n",
       "203      1.0  0.651246  \n",
       "293      1.0  0.946619  \n",
       "240      0.0  0.740214  "
      ]
     },
     "execution_count": 94,
     "metadata": {},
     "output_type": "execute_result"
    }
   ],
   "source": [
    "X_test.head()"
   ]
  },
  {
   "cell_type": "code",
   "execution_count": 95,
   "id": "a26764c6-f3ab-4082-8573-49a4658c9f48",
   "metadata": {},
   "outputs": [
    {
     "name": "stdout",
     "output_type": "stream",
     "text": [
      "[0.] [[0.636364, 0.0, 0.071319, 0.0, 0.090909, 1.0, 0.290823, 0.157303, 0.485714, 1.0, 0.0, 0.0]]\n"
     ]
    }
   ],
   "source": [
    "new_input=[[0.636364,0.0,0.071319,0.0,0.090909,1.0,0.290823,0.157303,0.485714,1.0,0.0,0.000000]] # If the person is within normal range, the prediction is 0 = no death\n",
    "new_output = project_model.predict(new_input)\n",
    "print(new_output, new_input)"
   ]
  },
  {
   "cell_type": "code",
   "execution_count": 96,
   "id": "b25b56dd-8230-437f-93e4-720a6e990d15",
   "metadata": {},
   "outputs": [
    {
     "name": "stdout",
     "output_type": "stream",
     "text": [
      "[1.] [[0.4, 0.0, 0.004848, 1.0, 0.363636, 1.0, 0.157474, 0.067416, 0.857143, 1.0, 1.0, 0.946619]]\n"
     ]
    }
   ],
   "source": [
    "new_input=[[0.400000,0.0,0.004848,1.0,0.363636,1.0,0.157474,0.067416,0.857143,1.0,1.0,0.946619]] # If the person is not within normal range, the prediction is 1 = death\n",
    "new_output = project_model.predict(new_input)\n",
    "print(new_output, new_input)"
   ]
  },
  {
   "cell_type": "markdown",
   "id": "a64fb180-e3a9-4e25-8c11-d4f7302c6fd4",
   "metadata": {},
   "source": [
    "<h2 style='color:blue' align=\"center\">The Most Significant Features</h2>"
   ]
  },
  {
   "cell_type": "code",
   "execution_count": 221,
   "id": "b5920a15-c128-47e0-bfd8-e2f3f8393c1e",
   "metadata": {},
   "outputs": [],
   "source": [
    "X_train, X_test, Y_train, Y_test = train_test_split(normalized_project_df[['ejection_fraction', 'platelets', 'serum_sodium','time_d']], project_df.DEATH_EVENT, train_size=0.8)"
   ]
  },
  {
   "cell_type": "code",
   "execution_count": 222,
   "id": "fc5f04ed-c773-4d05-81c5-616344e28162",
   "metadata": {},
   "outputs": [
    {
     "data": {
      "text/html": [
       "<div>\n",
       "<style scoped>\n",
       "    .dataframe tbody tr th:only-of-type {\n",
       "        vertical-align: middle;\n",
       "    }\n",
       "\n",
       "    .dataframe tbody tr th {\n",
       "        vertical-align: top;\n",
       "    }\n",
       "\n",
       "    .dataframe thead th {\n",
       "        text-align: right;\n",
       "    }\n",
       "</style>\n",
       "<table border=\"1\" class=\"dataframe\">\n",
       "  <thead>\n",
       "    <tr style=\"text-align: right;\">\n",
       "      <th></th>\n",
       "      <th>ejection_fraction</th>\n",
       "      <th>platelets</th>\n",
       "      <th>serum_sodium</th>\n",
       "      <th>time_d</th>\n",
       "    </tr>\n",
       "  </thead>\n",
       "  <tbody>\n",
       "    <tr>\n",
       "      <th>72</th>\n",
       "      <td>0.318182</td>\n",
       "      <td>0.264153</td>\n",
       "      <td>0.542857</td>\n",
       "      <td>0.241993</td>\n",
       "    </tr>\n",
       "    <tr>\n",
       "      <th>40</th>\n",
       "      <td>0.090909</td>\n",
       "      <td>0.288833</td>\n",
       "      <td>0.600000</td>\n",
       "      <td>0.096085</td>\n",
       "    </tr>\n",
       "    <tr>\n",
       "      <th>198</th>\n",
       "      <td>0.090909</td>\n",
       "      <td>0.307795</td>\n",
       "      <td>0.600000</td>\n",
       "      <td>0.647687</td>\n",
       "    </tr>\n",
       "    <tr>\n",
       "      <th>241</th>\n",
       "      <td>0.242424</td>\n",
       "      <td>0.271427</td>\n",
       "      <td>0.657143</td>\n",
       "      <td>0.740214</td>\n",
       "    </tr>\n",
       "    <tr>\n",
       "      <th>42</th>\n",
       "      <td>0.469697</td>\n",
       "      <td>0.193842</td>\n",
       "      <td>0.742857</td>\n",
       "      <td>0.103203</td>\n",
       "    </tr>\n",
       "  </tbody>\n",
       "</table>\n",
       "</div>"
      ],
      "text/plain": [
       "     ejection_fraction  platelets  serum_sodium    time_d\n",
       "72            0.318182   0.264153      0.542857  0.241993\n",
       "40            0.090909   0.288833      0.600000  0.096085\n",
       "198           0.090909   0.307795      0.600000  0.647687\n",
       "241           0.242424   0.271427      0.657143  0.740214\n",
       "42            0.469697   0.193842      0.742857  0.103203"
      ]
     },
     "execution_count": 222,
     "metadata": {},
     "output_type": "execute_result"
    }
   ],
   "source": [
    "X_test.head()"
   ]
  },
  {
   "cell_type": "code",
   "execution_count": 223,
   "id": "4bc89a84-e3f8-40c3-8c4b-e7ab17ef6aed",
   "metadata": {},
   "outputs": [
    {
     "data": {
      "text/plain": [
       "LogisticRegression()"
      ]
     },
     "execution_count": 223,
     "metadata": {},
     "output_type": "execute_result"
    }
   ],
   "source": [
    "project_model.fit(X_train, Y_train)"
   ]
  },
  {
   "cell_type": "code",
   "execution_count": 224,
   "id": "5ac0fdee-7812-4431-b70d-f6fef849d9b1",
   "metadata": {},
   "outputs": [
    {
     "data": {
      "text/html": [
       "<div>\n",
       "<style scoped>\n",
       "    .dataframe tbody tr th:only-of-type {\n",
       "        vertical-align: middle;\n",
       "    }\n",
       "\n",
       "    .dataframe tbody tr th {\n",
       "        vertical-align: top;\n",
       "    }\n",
       "\n",
       "    .dataframe thead th {\n",
       "        text-align: right;\n",
       "    }\n",
       "</style>\n",
       "<table border=\"1\" class=\"dataframe\">\n",
       "  <thead>\n",
       "    <tr style=\"text-align: right;\">\n",
       "      <th></th>\n",
       "      <th>ejection_fraction</th>\n",
       "      <th>platelets</th>\n",
       "      <th>serum_sodium</th>\n",
       "      <th>time_d</th>\n",
       "    </tr>\n",
       "  </thead>\n",
       "  <tbody>\n",
       "    <tr>\n",
       "      <th>88</th>\n",
       "      <td>0.393939</td>\n",
       "      <td>0.254455</td>\n",
       "      <td>0.742857</td>\n",
       "      <td>0.266904</td>\n",
       "    </tr>\n",
       "    <tr>\n",
       "      <th>255</th>\n",
       "      <td>0.242424</td>\n",
       "      <td>0.374470</td>\n",
       "      <td>0.828571</td>\n",
       "      <td>0.754448</td>\n",
       "    </tr>\n",
       "    <tr>\n",
       "      <th>167</th>\n",
       "      <td>0.090909</td>\n",
       "      <td>0.054431</td>\n",
       "      <td>0.600000</td>\n",
       "      <td>0.466192</td>\n",
       "    </tr>\n",
       "    <tr>\n",
       "      <th>152</th>\n",
       "      <td>0.469697</td>\n",
       "      <td>0.192629</td>\n",
       "      <td>0.600000</td>\n",
       "      <td>0.405694</td>\n",
       "    </tr>\n",
       "    <tr>\n",
       "      <th>151</th>\n",
       "      <td>0.696970</td>\n",
       "      <td>0.265365</td>\n",
       "      <td>0.742857</td>\n",
       "      <td>0.402135</td>\n",
       "    </tr>\n",
       "  </tbody>\n",
       "</table>\n",
       "</div>"
      ],
      "text/plain": [
       "     ejection_fraction  platelets  serum_sodium    time_d\n",
       "88            0.393939   0.254455      0.742857  0.266904\n",
       "255           0.242424   0.374470      0.828571  0.754448\n",
       "167           0.090909   0.054431      0.600000  0.466192\n",
       "152           0.469697   0.192629      0.600000  0.405694\n",
       "151           0.696970   0.265365      0.742857  0.402135"
      ]
     },
     "execution_count": 224,
     "metadata": {},
     "output_type": "execute_result"
    }
   ],
   "source": [
    "X_train.head()"
   ]
  },
  {
   "cell_type": "code",
   "execution_count": 225,
   "id": "33775c69-c7fe-4626-b9ce-8b7768f7207a",
   "metadata": {},
   "outputs": [],
   "source": [
    "Y_predicted = project_model.predict(X_test)"
   ]
  },
  {
   "cell_type": "code",
   "execution_count": 226,
   "id": "2812d8c3-6dc5-4654-a777-f62dd5b0e0fd",
   "metadata": {},
   "outputs": [
    {
     "data": {
      "text/plain": [
       "array([0, 0, 1, 1, 0, 1, 0, 1, 1, 1, 1, 1, 1, 1, 0, 0, 1, 1, 1, 1, 1, 1,\n",
       "       1, 1, 0, 1, 1, 0, 1, 1, 1, 1, 1, 1, 1, 1, 1, 1, 1, 1, 1, 1, 1, 1,\n",
       "       0, 0, 0, 1, 1, 1, 1, 0, 1, 1, 1, 0, 1, 0, 1, 0], dtype=int64)"
      ]
     },
     "execution_count": 226,
     "metadata": {},
     "output_type": "execute_result"
    }
   ],
   "source": [
    "Y_predicted"
   ]
  },
  {
   "cell_type": "code",
   "execution_count": 227,
   "id": "9e099380-e1bb-4207-a2c2-e10acdb1c553",
   "metadata": {},
   "outputs": [
    {
     "data": {
      "text/plain": [
       "array([[0.50633657, 0.49366343],\n",
       "       [0.71522276, 0.28477724],\n",
       "       [0.25673886, 0.74326114],\n",
       "       [0.14939607, 0.85060393],\n",
       "       [0.50891277, 0.49108723],\n",
       "       [0.06720127, 0.93279873],\n",
       "       [0.70387935, 0.29612065],\n",
       "       [0.20386653, 0.79613347],\n",
       "       [0.17484794, 0.82515206],\n",
       "       [0.39617305, 0.60382695],\n",
       "       [0.0258704 , 0.9741296 ],\n",
       "       [0.0812317 , 0.9187683 ],\n",
       "       [0.11851199, 0.88148801],\n",
       "       [0.07604447, 0.92395553],\n",
       "       [0.55605024, 0.44394976],\n",
       "       [0.5561878 , 0.4438122 ],\n",
       "       [0.16269711, 0.83730289],\n",
       "       [0.38204251, 0.61795749],\n",
       "       [0.24792291, 0.75207709],\n",
       "       [0.16271681, 0.83728319],\n",
       "       [0.09829756, 0.90170244],\n",
       "       [0.10153024, 0.89846976],\n",
       "       [0.27070027, 0.72929973],\n",
       "       [0.32691867, 0.67308133],\n",
       "       [0.69518718, 0.30481282],\n",
       "       [0.05620858, 0.94379142],\n",
       "       [0.33043326, 0.66956674],\n",
       "       [0.64152118, 0.35847882],\n",
       "       [0.04554545, 0.95445455],\n",
       "       [0.05218165, 0.94781835],\n",
       "       [0.07766167, 0.92233833],\n",
       "       [0.07503979, 0.92496021],\n",
       "       [0.35044857, 0.64955143],\n",
       "       [0.0914686 , 0.9085314 ],\n",
       "       [0.38061134, 0.61938866],\n",
       "       [0.10249176, 0.89750824],\n",
       "       [0.21994525, 0.78005475],\n",
       "       [0.07259419, 0.92740581],\n",
       "       [0.10010394, 0.89989606],\n",
       "       [0.18701346, 0.81298654],\n",
       "       [0.06259589, 0.93740411],\n",
       "       [0.3614077 , 0.6385923 ],\n",
       "       [0.27192343, 0.72807657],\n",
       "       [0.27510967, 0.72489033],\n",
       "       [0.66602183, 0.33397817],\n",
       "       [0.55772277, 0.44227723],\n",
       "       [0.64185854, 0.35814146],\n",
       "       [0.45059954, 0.54940046],\n",
       "       [0.32519873, 0.67480127],\n",
       "       [0.39885552, 0.60114448],\n",
       "       [0.13690011, 0.86309989],\n",
       "       [0.60692656, 0.39307344],\n",
       "       [0.4910349 , 0.5089651 ],\n",
       "       [0.27857494, 0.72142506],\n",
       "       [0.22922025, 0.77077975],\n",
       "       [0.54798537, 0.45201463],\n",
       "       [0.31365246, 0.68634754],\n",
       "       [0.52647516, 0.47352484],\n",
       "       [0.10165523, 0.89834477],\n",
       "       [0.7008629 , 0.2991371 ]])"
      ]
     },
     "execution_count": 227,
     "metadata": {},
     "output_type": "execute_result"
    }
   ],
   "source": [
    "project_model.predict_proba(X_test)"
   ]
  },
  {
   "cell_type": "code",
   "execution_count": 228,
   "id": "54860d4e-192b-422a-adbd-c676f965ad75",
   "metadata": {},
   "outputs": [],
   "source": [
    "significant = project_model.score(X_test, Y_test)"
   ]
  },
  {
   "cell_type": "code",
   "execution_count": 229,
   "id": "9c696edb-3026-4064-99e6-9e5b5b24f1ee",
   "metadata": {},
   "outputs": [
    {
     "data": {
      "text/plain": [
       "0.9333333333333333"
      ]
     },
     "execution_count": 229,
     "metadata": {},
     "output_type": "execute_result"
    }
   ],
   "source": [
    "significant"
   ]
  },
  {
   "cell_type": "code",
   "execution_count": 230,
   "id": "20af98e5-0fd8-4529-b043-6d00fa8657f1",
   "metadata": {},
   "outputs": [
    {
     "name": "stdout",
     "output_type": "stream",
     "text": [
      "Model accuracy with %80 training is for the complete features before normalization            :% 75.0\n",
      "Model accuracy with %80 training is for the complete features after normalization             :% 83.33333333333334\n",
      "Model accuracy with %80 training is after selecting the most significant normalized features  :% 93.33333333333333\n"
     ]
    }
   ],
   "source": [
    "print('Model accuracy with %80 training is for the complete features before normalization            :'+'%',combo *100,)\n",
    "print('Model accuracy with %80 training is for the complete features after normalization             :'+'%',normalize_combo *100,)\n",
    "print('Model accuracy with %80 training is after selecting the most significant normalized features  :'+'%',significant *100,)"
   ]
  },
  {
   "cell_type": "code",
   "execution_count": 231,
   "id": "27e956cc-6b3c-470c-97f5-dd2603c08073",
   "metadata": {},
   "outputs": [
    {
     "data": {
      "text/html": [
       "<div>\n",
       "<style scoped>\n",
       "    .dataframe tbody tr th:only-of-type {\n",
       "        vertical-align: middle;\n",
       "    }\n",
       "\n",
       "    .dataframe tbody tr th {\n",
       "        vertical-align: top;\n",
       "    }\n",
       "\n",
       "    .dataframe thead th {\n",
       "        text-align: right;\n",
       "    }\n",
       "</style>\n",
       "<table border=\"1\" class=\"dataframe\">\n",
       "  <thead>\n",
       "    <tr style=\"text-align: right;\">\n",
       "      <th></th>\n",
       "      <th>ejection_fraction</th>\n",
       "      <th>platelets</th>\n",
       "      <th>serum_sodium</th>\n",
       "      <th>time_d</th>\n",
       "    </tr>\n",
       "  </thead>\n",
       "  <tbody>\n",
       "    <tr>\n",
       "      <th>88</th>\n",
       "      <td>0.393939</td>\n",
       "      <td>0.254455</td>\n",
       "      <td>0.742857</td>\n",
       "      <td>0.266904</td>\n",
       "    </tr>\n",
       "    <tr>\n",
       "      <th>255</th>\n",
       "      <td>0.242424</td>\n",
       "      <td>0.374470</td>\n",
       "      <td>0.828571</td>\n",
       "      <td>0.754448</td>\n",
       "    </tr>\n",
       "    <tr>\n",
       "      <th>167</th>\n",
       "      <td>0.090909</td>\n",
       "      <td>0.054431</td>\n",
       "      <td>0.600000</td>\n",
       "      <td>0.466192</td>\n",
       "    </tr>\n",
       "    <tr>\n",
       "      <th>152</th>\n",
       "      <td>0.469697</td>\n",
       "      <td>0.192629</td>\n",
       "      <td>0.600000</td>\n",
       "      <td>0.405694</td>\n",
       "    </tr>\n",
       "    <tr>\n",
       "      <th>151</th>\n",
       "      <td>0.696970</td>\n",
       "      <td>0.265365</td>\n",
       "      <td>0.742857</td>\n",
       "      <td>0.402135</td>\n",
       "    </tr>\n",
       "  </tbody>\n",
       "</table>\n",
       "</div>"
      ],
      "text/plain": [
       "     ejection_fraction  platelets  serum_sodium    time_d\n",
       "88            0.393939   0.254455      0.742857  0.266904\n",
       "255           0.242424   0.374470      0.828571  0.754448\n",
       "167           0.090909   0.054431      0.600000  0.466192\n",
       "152           0.469697   0.192629      0.600000  0.405694\n",
       "151           0.696970   0.265365      0.742857  0.402135"
      ]
     },
     "execution_count": 231,
     "metadata": {},
     "output_type": "execute_result"
    }
   ],
   "source": [
    "X_train.head()"
   ]
  },
  {
   "cell_type": "code",
   "execution_count": 232,
   "id": "ae389e72-476e-4359-bda5-b805e934e404",
   "metadata": {},
   "outputs": [
    {
     "name": "stdout",
     "output_type": "stream",
     "text": [
      "[0] [[0.090909, 0.290823, 0.485714, 0.0]]\n"
     ]
    }
   ],
   "source": [
    "new_input=[[0.090909,0.290823,0.485714,0.000000]] # If the person is within normal range, the prediction is 0 = no death\n",
    "new_output = project_model.predict(new_input)\n",
    "print(new_output, new_input)"
   ]
  },
  {
   "cell_type": "code",
   "execution_count": 58,
   "id": "37f62217-ebe5-4576-a58d-5b07a4cf190b",
   "metadata": {},
   "outputs": [
    {
     "name": "stdout",
     "output_type": "stream",
     "text": [
      "[1] [[0.69697, 0.290823, 0.342857, 0.946619]]\n"
     ]
    }
   ],
   "source": [
    "new_input=[[0.696970,0.290823,0.342857,0.946619]] # If the person is within normal range, the prediction is 1 = death\n",
    "new_output = project_model.predict(new_input)\n",
    "print(new_output, new_input)"
   ]
  }
 ],
 "metadata": {
  "kernelspec": {
   "display_name": "Python 3",
   "language": "python",
   "name": "python3"
  },
  "language_info": {
   "codemirror_mode": {
    "name": "ipython",
    "version": 3
   },
   "file_extension": ".py",
   "mimetype": "text/x-python",
   "name": "python",
   "nbconvert_exporter": "python",
   "pygments_lexer": "ipython3",
   "version": "3.8.8"
  }
 },
 "nbformat": 4,
 "nbformat_minor": 5
}
